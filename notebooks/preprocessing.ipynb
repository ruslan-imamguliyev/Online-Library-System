{
 "cells": [
  {
   "cell_type": "markdown",
   "id": "848bb5bc",
   "metadata": {},
   "source": [
    "# Data Preprocessing"
   ]
  },
  {
   "cell_type": "markdown",
   "id": "4279327f",
   "metadata": {},
   "source": [
    "Import libraries"
   ]
  },
  {
   "cell_type": "code",
   "execution_count": 111,
   "id": "e480c8ad",
   "metadata": {},
   "outputs": [],
   "source": [
    "import pandas as pd\n",
    "import numpy as np\n",
    "import unicodedata\n",
    "import string\n"
   ]
  },
  {
   "cell_type": "markdown",
   "id": "ea94f9f2",
   "metadata": {},
   "source": [
    "Preprocessing functions"
   ]
  },
  {
   "cell_type": "code",
   "execution_count": 77,
   "id": "58b93a51",
   "metadata": {},
   "outputs": [],
   "source": [
    "def clean_text(text):\n",
    "    text = ''.join(char for char in text if char in string.printable)\n",
    "    return text"
   ]
  },
  {
   "cell_type": "code",
   "execution_count": 104,
   "id": "f46915ca",
   "metadata": {},
   "outputs": [],
   "source": [
    "def preprocessing(raw_df: pd.DataFrame):\n",
    "    raw_df = raw_df.loc[:, ['title', 'author', 'desc', 'genre', 'rating', 'reviews', 'totalratings',\n",
    "                            'pages', 'img', 'link', 'isbn']]\n",
    "    raw_df.dropna(subset=['desc', 'title', 'img'], inplace=True)\n",
    "    raw_df['desc'] = raw_df['desc'].apply(clean_text)\n",
    "    raw_df['score'] = raw_df['rating'] * raw_df['totalratings']\n",
    "    raw_df['score'] = (raw_df['score'] / raw_df['score'].max()).round(3)\n",
    "    raw_df.drop_duplicates(subset=['title'], inplace=True)\n",
    "    raw_df['genre'] = raw_df['genre'].str.split(',')\n",
    "    raw_df['author'] = raw_df['author'].str.split(',')\n",
    "    raw_df['genre'].fillna('[]', inplace=True)\n",
    "    raw_df['isbn'].fillna('Missing', inplace=True)\n",
    "    raw_df = raw_df[raw_df['desc'].str.len() > 75]\n",
    "    return raw_df"
   ]
  },
  {
   "cell_type": "markdown",
   "id": "1a3db3a2",
   "metadata": {},
   "source": [
    "Preprocess the raw dataset and save it"
   ]
  },
  {
   "cell_type": "code",
   "execution_count": 105,
   "id": "8801b2d2",
   "metadata": {},
   "outputs": [
    {
     "name": "stderr",
     "output_type": "stream",
     "text": [
      "C:\\Users\\Ruslan\\AppData\\Local\\Temp\\ipykernel_19576\\4122240219.py:11: FutureWarning: A value is trying to be set on a copy of a DataFrame or Series through chained assignment using an inplace method.\n",
      "The behavior will change in pandas 3.0. This inplace method will never work because the intermediate object on which we are setting values always behaves as a copy.\n",
      "\n",
      "For example, when doing 'df[col].method(value, inplace=True)', try using 'df.method({col: value}, inplace=True)' or df[col] = df[col].method(value) instead, to perform the operation inplace on the original object.\n",
      "\n",
      "\n",
      "  raw_df['genre'].fillna('[]', inplace=True)\n",
      "C:\\Users\\Ruslan\\AppData\\Local\\Temp\\ipykernel_19576\\4122240219.py:12: FutureWarning: A value is trying to be set on a copy of a DataFrame or Series through chained assignment using an inplace method.\n",
      "The behavior will change in pandas 3.0. This inplace method will never work because the intermediate object on which we are setting values always behaves as a copy.\n",
      "\n",
      "For example, when doing 'df[col].method(value, inplace=True)', try using 'df.method({col: value}, inplace=True)' or df[col] = df[col].method(value) instead, to perform the operation inplace on the original object.\n",
      "\n",
      "\n",
      "  raw_df['isbn'].fillna('Missing', inplace=True)\n"
     ]
    }
   ],
   "source": [
    "df = pd.read_csv(r'..\\datasets\\GoodReads_100k_books.csv')\n",
    "df = preprocessing(df)\n",
    "df.to_csv(r'..\\datasets\\dataset.csv', index=False)"
   ]
  },
  {
   "cell_type": "markdown",
   "id": "7ecfaced",
   "metadata": {},
   "source": [
    "Load the preprocessed dataset"
   ]
  },
  {
   "cell_type": "code",
   "execution_count": 106,
   "id": "1c7736b7",
   "metadata": {},
   "outputs": [
    {
     "name": "stdout",
     "output_type": "stream",
     "text": [
      "<class 'pandas.core.frame.DataFrame'>\n",
      "RangeIndex: 87687 entries, 0 to 87686\n",
      "Data columns (total 12 columns):\n",
      " #   Column        Non-Null Count  Dtype  \n",
      "---  ------        --------------  -----  \n",
      " 0   title         87687 non-null  object \n",
      " 1   author        87687 non-null  object \n",
      " 2   desc          87687 non-null  object \n",
      " 3   genre         87687 non-null  object \n",
      " 4   rating        87687 non-null  float64\n",
      " 5   reviews       87687 non-null  int64  \n",
      " 6   totalratings  87687 non-null  int64  \n",
      " 7   pages         87687 non-null  int64  \n",
      " 8   img           87687 non-null  object \n",
      " 9   link          87687 non-null  object \n",
      " 10  isbn          87687 non-null  object \n",
      " 11  score         87687 non-null  float64\n",
      "dtypes: float64(2), int64(3), object(7)\n",
      "memory usage: 8.0+ MB\n"
     ]
    }
   ],
   "source": [
    "df = pd.read_csv(r'..\\datasets\\dataset.csv')\n",
    "df.info()"
   ]
  },
  {
   "cell_type": "markdown",
   "id": "99ecbfe4",
   "metadata": {},
   "source": [
    "### Get the dataset ready for modelling"
   ]
  },
  {
   "cell_type": "markdown",
   "id": "0ea5b5c8",
   "metadata": {},
   "source": [
    "Create a new column `tags`"
   ]
  },
  {
   "cell_type": "code",
   "execution_count": null,
   "id": "ebeb2e41",
   "metadata": {},
   "outputs": [],
   "source": [
    "df['desc'] = df['desc'].str.replace(r'[^\\w\\s]', ' ', regex=True).str.replace(r'\\s+', ' ', regex=True).str.lower()"
   ]
  },
  {
   "cell_type": "code",
   "execution_count": null,
   "id": "402bfaf1",
   "metadata": {},
   "outputs": [],
   "source": [
    "df['author'] = df['author'].apply(lambda x: \" \".join(i.replace(\" \", \"\") for i in ast.literal_eval(x)).lower())"
   ]
  },
  {
   "cell_type": "code",
   "execution_count": null,
   "id": "7790fe30",
   "metadata": {},
   "outputs": [],
   "source": [
    "df['genre'] = df['genre'].apply(lambda x: \" \".join(i.replace(\" \", \"\") for i in ast.literal_eval(x)).lower())"
   ]
  },
  {
   "cell_type": "markdown",
   "id": "e287ef57",
   "metadata": {},
   "source": [
    "Create a `tags` column which combines `author`, `genre` and `desc`"
   ]
  },
  {
   "cell_type": "code",
   "execution_count": null,
   "id": "d6616211",
   "metadata": {},
   "outputs": [],
   "source": [
    "df['tags'] = df['author'] + ' ' + df['genre'] + ' ' + df['desc']"
   ]
  },
  {
   "cell_type": "markdown",
   "id": "53084ce3",
   "metadata": {},
   "source": [
    "Revert these columns to initial state"
   ]
  },
  {
   "cell_type": "code",
   "execution_count": null,
   "id": "9014a67e",
   "metadata": {},
   "outputs": [],
   "source": [
    "reset_df = pd.read_csv(r'..\\datasets\\dataset.csv')"
   ]
  },
  {
   "cell_type": "code",
   "execution_count": null,
   "id": "5fbe3cb0",
   "metadata": {},
   "outputs": [],
   "source": [
    "df['desc'], df['author'], df['genre'] = reset_df['desc'], reset_df['author'], reset_df['genre']"
   ]
  },
  {
   "cell_type": "code",
   "execution_count": null,
   "id": "aac7441f",
   "metadata": {},
   "outputs": [],
   "source": [
    "df.to_csv(r'..\\datasets\\dataset_with_tags.csv', index=False)"
   ]
  }
 ],
 "metadata": {
  "kernelspec": {
   "display_name": ".venv",
   "language": "python",
   "name": "python3"
  },
  "language_info": {
   "codemirror_mode": {
    "name": "ipython",
    "version": 3
   },
   "file_extension": ".py",
   "mimetype": "text/x-python",
   "name": "python",
   "nbconvert_exporter": "python",
   "pygments_lexer": "ipython3",
   "version": "3.12.6"
  }
 },
 "nbformat": 4,
 "nbformat_minor": 5
}
