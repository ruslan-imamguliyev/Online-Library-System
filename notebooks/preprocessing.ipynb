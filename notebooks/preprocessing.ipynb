{
 "cells": [
  {
   "cell_type": "markdown",
   "id": "848bb5bc",
   "metadata": {},
   "source": [
    "# Data Preprocessing"
   ]
  },
  {
   "cell_type": "markdown",
   "id": "4279327f",
   "metadata": {},
   "source": [
    "Import libraries"
   ]
  },
  {
   "cell_type": "code",
   "execution_count": 33,
   "id": "e480c8ad",
   "metadata": {},
   "outputs": [],
   "source": [
    "import pandas as pd\n",
    "import numpy as np"
   ]
  },
  {
   "cell_type": "markdown",
   "id": "ea94f9f2",
   "metadata": {},
   "source": [
    "Preprocessing function"
   ]
  },
  {
   "cell_type": "code",
   "execution_count": 24,
   "id": "f46915ca",
   "metadata": {},
   "outputs": [],
   "source": [
    "def preprocessing(raw_df: pd.DataFrame):\n",
    "       raw_df = raw_df.loc[:, ['title', 'author', 'desc', 'genre', 'rating', 'reviews', 'totalratings',\n",
    "              'pages', 'img', 'link', 'isbn']]\n",
    "       raw_df.dropna(subset=['desc', 'title', 'img'], inplace=True)\n",
    "       raw_df['score'] = raw_df['rating'] * raw_df['totalratings']\n",
    "       raw_df['score'] = (raw_df['score'] / raw_df['score'].max()).round(3)\n",
    "       raw_df.drop_duplicates(subset=['title'], inplace=True)\n",
    "       raw_df['genre'] = raw_df['genre'].str.split(',')\n",
    "       raw_df['author'] = raw_df['author'].str.split(',')\n",
    "       \n",
    "       return raw_df\n"
   ]
  },
  {
   "cell_type": "markdown",
   "id": "1a3db3a2",
   "metadata": {},
   "source": [
    "Preprocess the raw dataset and save it"
   ]
  },
  {
   "cell_type": "code",
   "execution_count": 25,
   "id": "8801b2d2",
   "metadata": {},
   "outputs": [],
   "source": [
    "#df = pd.read_csv(r'..\\datasets\\GoodReads_100k_books.csv')\n",
    "#df = preprocessing(df)\n",
    "#df.to_csv(r'..\\datasets\\dataset.csv', index=False)"
   ]
  },
  {
   "cell_type": "markdown",
   "id": "7ecfaced",
   "metadata": {},
   "source": [
    "Load the preprocessed dataset"
   ]
  },
  {
   "cell_type": "code",
   "execution_count": 26,
   "id": "1c7736b7",
   "metadata": {},
   "outputs": [
    {
     "name": "stdout",
     "output_type": "stream",
     "text": [
      "<class 'pandas.core.frame.DataFrame'>\n",
      "RangeIndex: 89772 entries, 0 to 89771\n",
      "Data columns (total 12 columns):\n",
      " #   Column        Non-Null Count  Dtype  \n",
      "---  ------        --------------  -----  \n",
      " 0   title         89772 non-null  object \n",
      " 1   author        89772 non-null  object \n",
      " 2   desc          89772 non-null  object \n",
      " 3   genre         82710 non-null  object \n",
      " 4   rating        89772 non-null  float64\n",
      " 5   reviews       89772 non-null  int64  \n",
      " 6   totalratings  89772 non-null  int64  \n",
      " 7   pages         89772 non-null  int64  \n",
      " 8   img           89772 non-null  object \n",
      " 9   link          89772 non-null  object \n",
      " 10  isbn          78228 non-null  object \n",
      " 11  score         89772 non-null  float64\n",
      "dtypes: float64(2), int64(3), object(7)\n",
      "memory usage: 8.2+ MB\n"
     ]
    }
   ],
   "source": [
    "df = pd.read_csv(r'..\\datasets\\dataset.csv')\n",
    "df.info()"
   ]
  }
 ],
 "metadata": {
  "kernelspec": {
   "display_name": ".venv",
   "language": "python",
   "name": "python3"
  },
  "language_info": {
   "codemirror_mode": {
    "name": "ipython",
    "version": 3
   },
   "file_extension": ".py",
   "mimetype": "text/x-python",
   "name": "python",
   "nbconvert_exporter": "python",
   "pygments_lexer": "ipython3",
   "version": "3.12.6"
  }
 },
 "nbformat": 4,
 "nbformat_minor": 5
}
