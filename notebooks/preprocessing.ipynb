{
 "cells": [
  {
   "cell_type": "markdown",
   "id": "848bb5bc",
   "metadata": {},
   "source": [
    "# Data Preprocessing"
   ]
  },
  {
   "cell_type": "markdown",
   "id": "4279327f",
   "metadata": {},
   "source": [
    "Import libraries"
   ]
  },
  {
   "cell_type": "code",
   "execution_count": 1,
   "id": "e480c8ad",
   "metadata": {},
   "outputs": [],
   "source": [
    "import pandas as pd\n",
    "import numpy as np\n"
   ]
  },
  {
   "cell_type": "markdown",
   "id": "4e31c456",
   "metadata": {},
   "source": [
    "Loading the dataset"
   ]
  },
  {
   "cell_type": "code",
   "execution_count": 2,
   "id": "d5fcf47a",
   "metadata": {},
   "outputs": [
    {
     "data": {
      "text/html": [
       "<div>\n",
       "<style scoped>\n",
       "    .dataframe tbody tr th:only-of-type {\n",
       "        vertical-align: middle;\n",
       "    }\n",
       "\n",
       "    .dataframe tbody tr th {\n",
       "        vertical-align: top;\n",
       "    }\n",
       "\n",
       "    .dataframe thead th {\n",
       "        text-align: right;\n",
       "    }\n",
       "</style>\n",
       "<table border=\"1\" class=\"dataframe\">\n",
       "  <thead>\n",
       "    <tr style=\"text-align: right;\">\n",
       "      <th></th>\n",
       "      <th>40778</th>\n",
       "    </tr>\n",
       "  </thead>\n",
       "  <tbody>\n",
       "    <tr>\n",
       "      <th>bookId</th>\n",
       "      <td>490667.Sport</td>\n",
       "    </tr>\n",
       "    <tr>\n",
       "      <th>title</th>\n",
       "      <td>Sport: A Novel</td>\n",
       "    </tr>\n",
       "    <tr>\n",
       "      <th>series</th>\n",
       "      <td>NaN</td>\n",
       "    </tr>\n",
       "    <tr>\n",
       "      <th>author</th>\n",
       "      <td>Mick Cochrane</td>\n",
       "    </tr>\n",
       "    <tr>\n",
       "      <th>rating</th>\n",
       "      <td>4.02</td>\n",
       "    </tr>\n",
       "    <tr>\n",
       "      <th>description</th>\n",
       "      <td>A nostalgic story about a Minnesota boy's sear...</td>\n",
       "    </tr>\n",
       "    <tr>\n",
       "      <th>language</th>\n",
       "      <td>English</td>\n",
       "    </tr>\n",
       "    <tr>\n",
       "      <th>isbn</th>\n",
       "      <td>9780816640850</td>\n",
       "    </tr>\n",
       "    <tr>\n",
       "      <th>genres</th>\n",
       "      <td>[]</td>\n",
       "    </tr>\n",
       "    <tr>\n",
       "      <th>characters</th>\n",
       "      <td>[]</td>\n",
       "    </tr>\n",
       "    <tr>\n",
       "      <th>bookFormat</th>\n",
       "      <td>Paperback</td>\n",
       "    </tr>\n",
       "    <tr>\n",
       "      <th>edition</th>\n",
       "      <td>NaN</td>\n",
       "    </tr>\n",
       "    <tr>\n",
       "      <th>pages</th>\n",
       "      <td>256</td>\n",
       "    </tr>\n",
       "    <tr>\n",
       "      <th>publisher</th>\n",
       "      <td>Univ Of Minnesota Press</td>\n",
       "    </tr>\n",
       "    <tr>\n",
       "      <th>publishDate</th>\n",
       "      <td>January 27th 2003</td>\n",
       "    </tr>\n",
       "    <tr>\n",
       "      <th>firstPublishDate</th>\n",
       "      <td>01/13/01</td>\n",
       "    </tr>\n",
       "    <tr>\n",
       "      <th>awards</th>\n",
       "      <td>[]</td>\n",
       "    </tr>\n",
       "    <tr>\n",
       "      <th>numRatings</th>\n",
       "      <td>43</td>\n",
       "    </tr>\n",
       "    <tr>\n",
       "      <th>ratingsByStars</th>\n",
       "      <td>['15', '17', '8', '3', '0']</td>\n",
       "    </tr>\n",
       "    <tr>\n",
       "      <th>likedPercent</th>\n",
       "      <td>93.0</td>\n",
       "    </tr>\n",
       "    <tr>\n",
       "      <th>setting</th>\n",
       "      <td>[]</td>\n",
       "    </tr>\n",
       "    <tr>\n",
       "      <th>coverImg</th>\n",
       "      <td>https://i.gr-assets.com/images/S/compressed.ph...</td>\n",
       "    </tr>\n",
       "    <tr>\n",
       "      <th>bbeScore</th>\n",
       "      <td>81</td>\n",
       "    </tr>\n",
       "    <tr>\n",
       "      <th>bbeVotes</th>\n",
       "      <td>1</td>\n",
       "    </tr>\n",
       "    <tr>\n",
       "      <th>price</th>\n",
       "      <td>5.29</td>\n",
       "    </tr>\n",
       "  </tbody>\n",
       "</table>\n",
       "</div>"
      ],
      "text/plain": [
       "                                                              40778\n",
       "bookId                                                 490667.Sport\n",
       "title                                                Sport: A Novel\n",
       "series                                                          NaN\n",
       "author                                                Mick Cochrane\n",
       "rating                                                         4.02\n",
       "description       A nostalgic story about a Minnesota boy's sear...\n",
       "language                                                    English\n",
       "isbn                                                  9780816640850\n",
       "genres                                                           []\n",
       "characters                                                       []\n",
       "bookFormat                                                Paperback\n",
       "edition                                                         NaN\n",
       "pages                                                           256\n",
       "publisher                                   Univ Of Minnesota Press\n",
       "publishDate                                       January 27th 2003\n",
       "firstPublishDate                                           01/13/01\n",
       "awards                                                           []\n",
       "numRatings                                                       43\n",
       "ratingsByStars                          ['15', '17', '8', '3', '0']\n",
       "likedPercent                                                   93.0\n",
       "setting                                                          []\n",
       "coverImg          https://i.gr-assets.com/images/S/compressed.ph...\n",
       "bbeScore                                                         81\n",
       "bbeVotes                                                          1\n",
       "price                                                          5.29"
      ]
     },
     "execution_count": 2,
     "metadata": {},
     "output_type": "execute_result"
    }
   ],
   "source": [
    "df = pd.read_csv(r'..\\datasets\\books_1.Best_Books_Ever.csv')\n",
    "df.sample().T"
   ]
  },
  {
   "cell_type": "code",
   "execution_count": 3,
   "id": "7160018f",
   "metadata": {},
   "outputs": [
    {
     "name": "stdout",
     "output_type": "stream",
     "text": [
      "<class 'pandas.core.frame.DataFrame'>\n",
      "RangeIndex: 52478 entries, 0 to 52477\n",
      "Data columns (total 25 columns):\n",
      " #   Column            Non-Null Count  Dtype  \n",
      "---  ------            --------------  -----  \n",
      " 0   bookId            52478 non-null  object \n",
      " 1   title             52478 non-null  object \n",
      " 2   series            23470 non-null  object \n",
      " 3   author            52478 non-null  object \n",
      " 4   rating            52478 non-null  float64\n",
      " 5   description       51140 non-null  object \n",
      " 6   language          48672 non-null  object \n",
      " 7   isbn              52478 non-null  object \n",
      " 8   genres            52478 non-null  object \n",
      " 9   characters        52478 non-null  object \n",
      " 10  bookFormat        51005 non-null  object \n",
      " 11  edition           4955 non-null   object \n",
      " 12  pages             50131 non-null  object \n",
      " 13  publisher         48782 non-null  object \n",
      " 14  publishDate       51598 non-null  object \n",
      " 15  firstPublishDate  31152 non-null  object \n",
      " 16  awards            52478 non-null  object \n",
      " 17  numRatings        52478 non-null  int64  \n",
      " 18  ratingsByStars    52478 non-null  object \n",
      " 19  likedPercent      51856 non-null  float64\n",
      " 20  setting           52478 non-null  object \n",
      " 21  coverImg          51873 non-null  object \n",
      " 22  bbeScore          52478 non-null  int64  \n",
      " 23  bbeVotes          52478 non-null  int64  \n",
      " 24  price             38113 non-null  object \n",
      "dtypes: float64(2), int64(3), object(20)\n",
      "memory usage: 10.0+ MB\n"
     ]
    }
   ],
   "source": [
    "df.info()"
   ]
  },
  {
   "cell_type": "markdown",
   "id": "622364e4",
   "metadata": {},
   "source": [
    "Checking missing values"
   ]
  },
  {
   "cell_type": "code",
   "execution_count": 4,
   "id": "a3d11fab",
   "metadata": {},
   "outputs": [
    {
     "data": {
      "text/plain": [
       "bookId                  0\n",
       "title                   0\n",
       "series              29008\n",
       "author                  0\n",
       "rating                  0\n",
       "description          1338\n",
       "language             3806\n",
       "isbn                    0\n",
       "genres                  0\n",
       "characters              0\n",
       "bookFormat           1473\n",
       "edition             47523\n",
       "pages                2347\n",
       "publisher            3696\n",
       "publishDate           880\n",
       "firstPublishDate    21326\n",
       "awards                  0\n",
       "numRatings              0\n",
       "ratingsByStars          0\n",
       "likedPercent          622\n",
       "setting                 0\n",
       "coverImg              605\n",
       "bbeScore                0\n",
       "bbeVotes                0\n",
       "price               14365\n",
       "dtype: int64"
      ]
     },
     "execution_count": 4,
     "metadata": {},
     "output_type": "execute_result"
    }
   ],
   "source": [
    "df.isna().sum()"
   ]
  },
  {
   "cell_type": "markdown",
   "id": "8b5035ec",
   "metadata": {},
   "source": [
    "Dropping missing values from essential columns"
   ]
  },
  {
   "cell_type": "code",
   "execution_count": 5,
   "id": "626dae9e",
   "metadata": {},
   "outputs": [],
   "source": [
    "df.dropna(subset=['coverImg', 'title', 'genres', 'author', 'description'], inplace=True)"
   ]
  },
  {
   "cell_type": "markdown",
   "id": "aff91fc3",
   "metadata": {},
   "source": [
    "Dropping duplicates (only when both `title` and `author` columns are the same)"
   ]
  },
  {
   "cell_type": "code",
   "execution_count": 6,
   "id": "50a9ae21",
   "metadata": {},
   "outputs": [],
   "source": [
    "df.drop_duplicates(subset=['title', 'author'], inplace=True)"
   ]
  },
  {
   "cell_type": "markdown",
   "id": "f5f54365",
   "metadata": {},
   "source": [
    "Choosing only *English* books"
   ]
  },
  {
   "cell_type": "code",
   "execution_count": 7,
   "id": "6359cdaf",
   "metadata": {},
   "outputs": [],
   "source": [
    "df = df[df['language'] == 'English']"
   ]
  },
  {
   "cell_type": "markdown",
   "id": "6b5c4a84",
   "metadata": {},
   "source": [
    "Removing insignificant descriptions"
   ]
  },
  {
   "cell_type": "code",
   "execution_count": 8,
   "id": "f9ea149c",
   "metadata": {},
   "outputs": [],
   "source": [
    "df = df[df['description'].str.len() > 75]"
   ]
  },
  {
   "cell_type": "markdown",
   "id": "f57a4243",
   "metadata": {},
   "source": [
    "Saving preprocessed dataset"
   ]
  },
  {
   "cell_type": "code",
   "execution_count": 11,
   "id": "bdd2f688",
   "metadata": {},
   "outputs": [],
   "source": [
    "df.to_csv(r'..\\datasets\\preprocessed.csv', index=False)"
   ]
  },
  {
   "cell_type": "markdown",
   "id": "b6830c9c",
   "metadata": {},
   "source": [
    "Loading the preprocessed dataset"
   ]
  },
  {
   "cell_type": "code",
   "execution_count": 2,
   "id": "30b8a1a7",
   "metadata": {},
   "outputs": [
    {
     "name": "stdout",
     "output_type": "stream",
     "text": [
      "<class 'pandas.core.frame.DataFrame'>\n",
      "RangeIndex: 41617 entries, 0 to 41616\n",
      "Data columns (total 25 columns):\n",
      " #   Column            Non-Null Count  Dtype  \n",
      "---  ------            --------------  -----  \n",
      " 0   bookId            41617 non-null  object \n",
      " 1   title             41617 non-null  object \n",
      " 2   series            20420 non-null  object \n",
      " 3   author            41617 non-null  object \n",
      " 4   rating            41617 non-null  float64\n",
      " 5   description       41617 non-null  object \n",
      " 6   language          41617 non-null  object \n",
      " 7   isbn              41617 non-null  object \n",
      " 8   genres            41617 non-null  object \n",
      " 9   characters        41617 non-null  object \n",
      " 10  bookFormat        41234 non-null  object \n",
      " 11  edition           3773 non-null   object \n",
      " 12  pages             40464 non-null  object \n",
      " 13  publisher         39307 non-null  object \n",
      " 14  publishDate       41298 non-null  object \n",
      " 15  firstPublishDate  25401 non-null  object \n",
      " 16  awards            41617 non-null  object \n",
      " 17  numRatings        41617 non-null  int64  \n",
      " 18  ratingsByStars    41617 non-null  object \n",
      " 19  likedPercent      41320 non-null  float64\n",
      " 20  setting           41617 non-null  object \n",
      " 21  coverImg          41617 non-null  object \n",
      " 22  bbeScore          41617 non-null  int64  \n",
      " 23  bbeVotes          41617 non-null  int64  \n",
      " 24  price             32885 non-null  object \n",
      "dtypes: float64(2), int64(3), object(20)\n",
      "memory usage: 7.9+ MB\n"
     ]
    }
   ],
   "source": [
    "df = pd.read_csv(r'..\\datasets\\preprocessed.csv')\n",
    "df.info()"
   ]
  },
  {
   "cell_type": "markdown",
   "id": "f9b22c3b",
   "metadata": {},
   "source": [
    "Saving dataframe to `MySQL` database"
   ]
  },
  {
   "cell_type": "code",
   "execution_count": 16,
   "id": "0a4acf67",
   "metadata": {},
   "outputs": [
    {
     "name": "stderr",
     "output_type": "stream",
     "text": [
      "C:\\Users\\Ruslan\\AppData\\Local\\Temp\\ipykernel_21216\\3283585613.py:1: FutureWarning: A value is trying to be set on a copy of a DataFrame or Series through chained assignment using an inplace method.\n",
      "The behavior will change in pandas 3.0. This inplace method will never work because the intermediate object on which we are setting values always behaves as a copy.\n",
      "\n",
      "For example, when doing 'df[col].method(value, inplace=True)', try using 'df.method({col: value}, inplace=True)' or df[col] = df[col].method(value) instead, to perform the operation inplace on the original object.\n",
      "\n",
      "\n",
      "  df['likedPercent'].fillna(value=\"missing\", inplace=True)\n",
      "C:\\Users\\Ruslan\\AppData\\Local\\Temp\\ipykernel_21216\\3283585613.py:1: FutureWarning: Setting an item of incompatible dtype is deprecated and will raise an error in a future version of pandas. Value 'missing' has dtype incompatible with float64, please explicitly cast to a compatible dtype first.\n",
      "  df['likedPercent'].fillna(value=\"missing\", inplace=True)\n"
     ]
    }
   ],
   "source": [
    "df['likedPercent'].fillna(value=\"missing\", inplace=True)"
   ]
  },
  {
   "cell_type": "code",
   "execution_count": null,
   "id": "8c2da9a1",
   "metadata": {},
   "outputs": [],
   "source": [
    "df = df.loc[:, ['title', 'author', 'genres', 'description', 'coverImg', 'likedPercent', 'rating',\n",
    "                'numRatings', 'pages', 'bookFormat', 'isbn']]"
   ]
  },
  {
   "cell_type": "code",
   "execution_count": null,
   "id": "4b25a93d",
   "metadata": {},
   "outputs": [
    {
     "data": {
      "text/plain": [
       "count    41617.000000\n",
       "mean       873.390778\n",
       "std        531.101889\n",
       "min         76.000000\n",
       "25%        542.000000\n",
       "50%        805.000000\n",
       "75%       1091.000000\n",
       "max      24733.000000\n",
       "Name: description, dtype: float64"
      ]
     },
     "metadata": {},
     "output_type": "display_data"
    }
   ],
   "source": [
    "df['description'].str.len().describe()"
   ]
  },
  {
   "cell_type": "code",
   "execution_count": 4,
   "id": "dc7b9efc",
   "metadata": {},
   "outputs": [],
   "source": [
    "import mysql.connector\n",
    "from dotenv import load_dotenv\n",
    "import os\n",
    "\n",
    "\n",
    "load_dotenv()\n",
    "\n",
    "HOST = os.getenv(\"DB_HOST\")\n",
    "USER = os.getenv(\"DB_USER\")\n",
    "PASSWORD = os.getenv(\"DB_PASSWORD\")\n",
    "\n",
    "mydb = mysql.connector.connect(\n",
    "  host=HOST,\n",
    "  user=USER,\n",
    "  password=PASSWORD,\n",
    "  database=\"mydatabase\"\n",
    ")"
   ]
  },
  {
   "cell_type": "code",
   "execution_count": 5,
   "id": "30151362",
   "metadata": {},
   "outputs": [],
   "source": [
    "cursor = mydb.cursor()"
   ]
  },
  {
   "cell_type": "code",
   "execution_count": 64,
   "id": "b96b63af",
   "metadata": {},
   "outputs": [],
   "source": [
    "# create a \"library\" table in mysql if it does not exist\n",
    "cursor.execute(\"DROP TABLE IF EXISTS library\")\n",
    "cursor.execute(\"\"\"CREATE TABLE library (\n",
    "    id INT AUTO_INCREMENT PRIMARY KEY,\n",
    "    title TEXT,\n",
    "    author TEXT,\n",
    "    genres TEXT,\n",
    "    description TEXT,\n",
    "    coverImg TEXT,\n",
    "    likedPercent VARCHAR(50),\n",
    "    rating FLOAT,\n",
    "    numRatings INT,\n",
    "    pages INT,\n",
    "    bookFormat VARCHAR(50),\n",
    "    isbn VARCHAR(50)\n",
    ")\"\"\")"
   ]
  },
  {
   "cell_type": "code",
   "execution_count": 65,
   "id": "9712889c",
   "metadata": {},
   "outputs": [],
   "source": [
    "from sqlalchemy import create_engine\n",
    "\n",
    "engine = create_engine(f\"mysql+mysqlconnector://{USER}:{PASSWORD}@{HOST}/mydatabase\")"
   ]
  },
  {
   "cell_type": "code",
   "execution_count": 66,
   "id": "f722adcf",
   "metadata": {},
   "outputs": [
    {
     "data": {
      "text/plain": [
       "41617"
      ]
     },
     "execution_count": 66,
     "metadata": {},
     "output_type": "execute_result"
    }
   ],
   "source": [
    "df.to_sql('library', con=engine, if_exists='append', index=False)"
   ]
  }
 ],
 "metadata": {
  "kernelspec": {
   "display_name": ".venv",
   "language": "python",
   "name": "python3"
  },
  "language_info": {
   "codemirror_mode": {
    "name": "ipython",
    "version": 3
   },
   "file_extension": ".py",
   "mimetype": "text/x-python",
   "name": "python",
   "nbconvert_exporter": "python",
   "pygments_lexer": "ipython3",
   "version": "3.12.6"
  }
 },
 "nbformat": 4,
 "nbformat_minor": 5
}
