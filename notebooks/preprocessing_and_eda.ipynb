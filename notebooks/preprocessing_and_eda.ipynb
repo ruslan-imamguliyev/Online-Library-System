{
 "cells": [
  {
   "cell_type": "markdown",
   "id": "b06d523f",
   "metadata": {},
   "source": [
    "## Data Preprocessing and Data Analysis"
   ]
  },
  {
   "cell_type": "code",
   "execution_count": 83,
   "id": "5c806e67",
   "metadata": {},
   "outputs": [],
   "source": [
    "import pandas as pd\n",
    "import numpy as np\n",
    "import ast\n",
    "\n",
    "RATING_THRESHOLD = 1000"
   ]
  },
  {
   "cell_type": "code",
   "execution_count": 110,
   "id": "4458ebb9",
   "metadata": {},
   "outputs": [],
   "source": [
    "def preprocess_df(df):\n",
    "    df = df.copy()\n",
    "    df.dropna(subset=['author', 'summary', 'genres'], inplace=True)\n",
    "    df.drop(columns=['about_author', 'community_reviews', 'kindle_price', 'num_reviews', 'id'], inplace=True)\n",
    "    df['author'] = df['author'].apply(lambda x: ast.literal_eval(x)[0])\n",
    "    na_authors = ['Anonymous', 'Unknown', 'Various']\n",
    "    df = df[~df['author'].isin(na_authors)]\n",
    "    df = df[~df['summary'].str.len() < 75]\n",
    "    df['genres'] = df['genres'].apply(lambda x: \" \".join(ast.literal_eval(x)))\n",
    "    df['tags'] = df['genres'].str.lower() + ' ' + df['author'].str.lower().replace(' ', '') + ' ' + df['summary'].str.lower()\n",
    "    df = df[df['num_ratings'] > RATING_THRESHOLD]\n",
    "    df['w_rating'] = (df['num_ratings'] / (df['num_ratings'] + RATING_THRESHOLD) * df['star_rating'] +\n",
    "                  RATING_THRESHOLD / (df['num_ratings'] + RATING_THRESHOLD) * df['star_rating'].mean()).round(2)\n",
    "    return df"
   ]
  },
  {
   "cell_type": "code",
   "execution_count": 111,
   "id": "ad6db6cc",
   "metadata": {},
   "outputs": [],
   "source": [
    "new_df = preprocess_df(test_df)"
   ]
  }
 ],
 "metadata": {
  "kernelspec": {
   "display_name": ".venv",
   "language": "python",
   "name": "python3"
  },
  "language_info": {
   "codemirror_mode": {
    "name": "ipython",
    "version": 3
   },
   "file_extension": ".py",
   "mimetype": "text/x-python",
   "name": "python",
   "nbconvert_exporter": "python",
   "pygments_lexer": "ipython3",
   "version": "3.12.6"
  }
 },
 "nbformat": 4,
 "nbformat_minor": 5
}
