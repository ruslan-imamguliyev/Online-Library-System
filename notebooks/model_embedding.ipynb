{
 "cells": [
  {
   "cell_type": "markdown",
   "id": "df3ac3fb",
   "metadata": {},
   "source": [
    "# Model Building, Approach 2. `SentenceTransformer` + `faiss`"
   ]
  },
  {
   "cell_type": "markdown",
   "id": "2795a354",
   "metadata": {},
   "source": [
    "### Getting ready"
   ]
  },
  {
   "cell_type": "markdown",
   "id": "38a7f9a0",
   "metadata": {},
   "source": [
    "Importing libraries"
   ]
  },
  {
   "cell_type": "code",
   "execution_count": 1,
   "id": "88b66ba5",
   "metadata": {},
   "outputs": [
    {
     "name": "stderr",
     "output_type": "stream",
     "text": [
      "c:\\Users\\Ruslan\\Desktop\\Projects\\Python\\ML Project 1\\.venv\\Lib\\site-packages\\tqdm\\auto.py:21: TqdmWarning: IProgress not found. Please update jupyter and ipywidgets. See https://ipywidgets.readthedocs.io/en/stable/user_install.html\n",
      "  from .autonotebook import tqdm as notebook_tqdm\n"
     ]
    }
   ],
   "source": [
    "from sentence_transformers import SentenceTransformer\n",
    "import faiss\n",
    "import numpy as np\n",
    "import pandas as pd\n",
    "import sys; sys.path.insert(0, '../src'); from eda_utils import display_books_info"
   ]
  },
  {
   "cell_type": "markdown",
   "id": "251da05e",
   "metadata": {},
   "source": [
    "Loading the dataset"
   ]
  },
  {
   "cell_type": "code",
   "execution_count": 2,
   "id": "53a4da0c",
   "metadata": {},
   "outputs": [
    {
     "name": "stdout",
     "output_type": "stream",
     "text": [
      "<class 'pandas.core.frame.DataFrame'>\n",
      "RangeIndex: 87687 entries, 0 to 87686\n",
      "Data columns (total 12 columns):\n",
      " #   Column        Non-Null Count  Dtype  \n",
      "---  ------        --------------  -----  \n",
      " 0   title         87687 non-null  object \n",
      " 1   author        87687 non-null  object \n",
      " 2   desc          87687 non-null  object \n",
      " 3   genre         87687 non-null  object \n",
      " 4   rating        87687 non-null  float64\n",
      " 5   reviews       87687 non-null  int64  \n",
      " 6   totalratings  87687 non-null  int64  \n",
      " 7   pages         87687 non-null  int64  \n",
      " 8   img           87687 non-null  object \n",
      " 9   link          87687 non-null  object \n",
      " 10  isbn          87687 non-null  object \n",
      " 11  score         87687 non-null  float64\n",
      "dtypes: float64(2), int64(3), object(7)\n",
      "memory usage: 8.0+ MB\n"
     ]
    }
   ],
   "source": [
    "df = pd.read_csv(r'..\\datasets\\dataset.csv')\n",
    "df.info()"
   ]
  },
  {
   "cell_type": "markdown",
   "id": "43f350ab",
   "metadata": {},
   "source": [
    "### Encoding the embeddings in `Google Colab`\n",
    "\n",
    "Since it takes some compute power to encode the embeddings, I am gonna use `Google Colab` notebook and `T4 GPU` runtime.\n",
    "\n",
    "> [**Source code**](https://colab.research.google.com/drive/1GBtTwZAcCctheVXkqhp2jhIVQG_cCbnA?usp=sharing)"
   ]
  },
  {
   "cell_type": "markdown",
   "id": "3b2522ea",
   "metadata": {},
   "source": [
    "### Loading saved objects from `Google Colab`"
   ]
  },
  {
   "cell_type": "markdown",
   "id": "c01060cb",
   "metadata": {},
   "source": [
    "Loading the embeddings"
   ]
  },
  {
   "cell_type": "code",
   "execution_count": 3,
   "id": "33ce8a29",
   "metadata": {},
   "outputs": [],
   "source": [
    "embeddings = np.load(r\"..\\datasets\\book_embeddings.npy\")"
   ]
  },
  {
   "cell_type": "markdown",
   "id": "1f780f40",
   "metadata": {},
   "source": [
    "Loading the `faiss` index"
   ]
  },
  {
   "cell_type": "code",
   "execution_count": 4,
   "id": "2629e4d6",
   "metadata": {},
   "outputs": [],
   "source": [
    "index = faiss.read_index(r\"..\\datasets\\book_index.faiss\")"
   ]
  },
  {
   "cell_type": "markdown",
   "id": "1133d09b",
   "metadata": {},
   "source": [
    "### Main function"
   ]
  },
  {
   "cell_type": "markdown",
   "id": "6390cb5a",
   "metadata": {},
   "source": [
    "Recommend function"
   ]
  },
  {
   "cell_type": "code",
   "execution_count": 25,
   "id": "0ff638ea",
   "metadata": {},
   "outputs": [],
   "source": [
    "def recommend(book_index, k=5):\n",
    "  \"\"\"\n",
    "  Recommends k books similar to the given book.\n",
    "\n",
    "  Args:\n",
    "    book_index (int): The index of the book in the dataframe.\n",
    "    k (int): The number of books to recommend.\n",
    "\n",
    "  Returns:\n",
    "    A dataframe containing the recommended books.\n",
    "  \"\"\"\n",
    "\n",
    "  # getting embedding vector by book_index\n",
    "  query_vector = embeddings[book_index].reshape(1, -1)\n",
    "\n",
    "  # getting k + 1 similar vectors (+1 to exclude self)\n",
    "  D, I = index.search(query_vector, k + 1)\n",
    "\n",
    "  # returning a dataframe with selected indices (slicing by [1:] to exclude self)\n",
    "  return df.iloc[I[0][1:]].to_dict(orient='records')"
   ]
  },
  {
   "cell_type": "code",
   "execution_count": 30,
   "id": "0ffad9f1",
   "metadata": {},
   "outputs": [
    {
     "data": {
      "text/plain": [
       "7864"
      ]
     },
     "execution_count": 30,
     "metadata": {},
     "output_type": "execute_result"
    }
   ],
   "source": [
    "idx = int(df[df['title'].str.lower() == 'a clash of kings'.lower()].index.values[0])\n",
    "idx"
   ]
  },
  {
   "cell_type": "code",
   "execution_count": 29,
   "id": "92fbe461",
   "metadata": {},
   "outputs": [
    {
     "data": {
      "text/plain": [
       "[{'title': 'A Clash of Kings',\n",
       "  'author': \"['George R.R. Martin']\",\n",
       "  'desc': 'A comet the color of blood and flame cuts across the sky. Two great leadersLord Eddard Stark and Robert Baratheonwho hold sway over an age of enforced peace are dead, victims of royal treachery. Now, from the ancient citadel of Dragonstone to the forbidding shores of Winterfell, chaos reigns. Six factions struggle for control of a divided land and the Iron Throne of the Seven Kingdoms, preparing to stake their claims through tempest, turmoil, and war. ,It is a tale in which brother plots against brother and the dead rise to walk in the night. Here a princess masquerades as an orphan boy; a knight of the mind prepares a poison for a treacherous sorceress; and wild men descend from the Mountains of the Moon to ravage the countryside. Against a backdrop of incest and fratricide, alchemy and murder, victory may go to the men and women possessed of the coldest steel...and the coldest hearts. For when kings clash, the whole land trembles.,Here is the second volume in George R.R. Martin magnificent cycle of novels that includes ,A Game of Thrones, and ,A Storm of Swords,. As a whole, this series comprises a genuine masterpiece of modern fantasy, bringing together the best the genre has to offer. Magic, mystery, intrigue, romance, and adventure fill these pages and transport us to a world unlike any we have ever experienced. Already hailed as a classic, George R.R. Martin stunning series is destined to stand as one of the great achievements of imaginative fiction.',\n",
       "  'genre': \"['Fantasy', 'Fiction', 'Fantasy', 'Epic Fantasy', 'Science Fiction Fantasy', 'Fantasy', 'High Fantasy', 'Adult', 'Adventure', 'Fantasy', 'Dragons', 'Audiobook', 'Epic']\",\n",
       "  'rating': 4.41,\n",
       "  'reviews': 24450,\n",
       "  'totalratings': 817634,\n",
       "  'pages': 969,\n",
       "  'img': 'https://i.gr-assets.com/images/S/compressed.photo.goodreads.com/books/1567840212l/10572.jpg',\n",
       "  'link': 'https://goodreads.com/book/show/10572.A_Clash_of_Kings',\n",
       "  'isbn': '553381695',\n",
       "  'score': 0.225},\n",
       " {'title': 'A Song of Ice and Fire',\n",
       "  'author': \"['George R.R. Martin']\",\n",
       "  'desc': 'For the first time, all five novels in the epic fantasy series that inspired HBO\\'s \"Game of Thrones \"are together in one boxed set. An immersive entertainment experience unlike any other, A Song of Ice and Fire has earned George R. R. Martin--dubbed \"the American Tolkien\" by \"Time\" magazine--international acclaim and millions of loyal readers. Now here is the entire monumental cycle: ,A GAME OF THRONES,A CLASH OF KINGS,A STORM OF SWORDS,A FEAST OF CROWS,A DANCE WITH DRAGONS, Winter is coming. Such is the stern motto of House Stark, the northernmost of the fiefdoms that owe allegiance to King Robert Baratheon in far-off King\\'s Landing. There Eddard Stark of Winterfell rules in Robert\\'s name. There his family dwells in peace and comfort: his proud wife, Catelyn; his sons Robb, Brandon, and Rickon; his daughters Sansa and Arya; and his bastard son, Jon Snow. Far to the north, behind the towering Wall, lie savage Wildings and worse--unnatural things relegated to myth during the centuries-long summer, but proving all too real and all too deadly in the turning of the season. , Yet a more immediate threat lurks to the south, where Jon Arryn, the Hand of the King, has died under mysterious circumstances. Now Robert is riding north to Winterfell, bringing his queen, the lovely but cold Cersei, his son, the cruel, vainglorious Prince Joffrey, and the queen\\'s brothers Jaime and Tyrion of the powerful and wealthy House Lannister--the first a swordsman without equal, the second a dwarf whose stunted stature belies a brilliant mind. All are heading for Winterfell and a fateful encounter that will change the course of kingdoms. , Meanwhile, across the Narrow Sea, Prince Viserys, heir of the fallen House Targaryen, which once ruled all of Westeros, schemes to reclaim the throne with an army of barbarian Dothraki--whose loyalty he will purchase in the only coin left to him: his beautiful yet innocent sister, Daenerys.,\"',\n",
       "  'genre': \"['Fantasy', 'Fiction', 'Science Fiction Fantasy', 'Adventure', 'Novels', 'Fantasy', 'Dragons', 'Science Fiction', 'Fantasy', 'Epic Fantasy', 'Fantasy', 'High Fantasy', 'Adult']\",\n",
       "  'rating': 4.55,\n",
       "  'reviews': 1659,\n",
       "  'totalratings': 55713,\n",
       "  'pages': 5216,\n",
       "  'img': 'https://i.gr-assets.com/images/S/compressed.photo.goodreads.com/books/1339340118l/12177850.jpg',\n",
       "  'link': 'https://goodreads.com/book/show/12177850-a-song-of-ice-and-fire',\n",
       "  'isbn': '1780484259',\n",
       "  'score': 0.016}]"
      ]
     },
     "execution_count": 29,
     "metadata": {},
     "output_type": "execute_result"
    }
   ],
   "source": [
    "recommend(idx, k=2)"
   ]
  },
  {
   "cell_type": "code",
   "execution_count": 31,
   "id": "1ce924ea",
   "metadata": {},
   "outputs": [],
   "source": [
    "#display_books_info(recommend(idx, k=10))"
   ]
  },
  {
   "cell_type": "code",
   "execution_count": null,
   "id": "36a34eb2",
   "metadata": {},
   "outputs": [],
   "source": []
  }
 ],
 "metadata": {
  "kernelspec": {
   "display_name": ".venv",
   "language": "python",
   "name": "python3"
  },
  "language_info": {
   "codemirror_mode": {
    "name": "ipython",
    "version": 3
   },
   "file_extension": ".py",
   "mimetype": "text/x-python",
   "name": "python",
   "nbconvert_exporter": "python",
   "pygments_lexer": "ipython3",
   "version": "3.12.6"
  }
 },
 "nbformat": 4,
 "nbformat_minor": 5
}
