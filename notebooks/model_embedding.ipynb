{
 "cells": [
  {
   "cell_type": "markdown",
   "id": "df3ac3fb",
   "metadata": {},
   "source": [
    "# Model Building, Approach 2. `SentenceTransformer` + `faiss`"
   ]
  },
  {
   "cell_type": "markdown",
   "id": "2795a354",
   "metadata": {},
   "source": [
    "### Getting ready"
   ]
  },
  {
   "cell_type": "markdown",
   "id": "38a7f9a0",
   "metadata": {},
   "source": [
    "Importing libraries"
   ]
  },
  {
   "cell_type": "code",
   "execution_count": 15,
   "id": "88b66ba5",
   "metadata": {},
   "outputs": [],
   "source": [
    "from sentence_transformers import SentenceTransformer\n",
    "import faiss\n",
    "import numpy as np\n",
    "import pandas as pd\n",
    "import sys; sys.path.insert(0, '../src'); from eda_utils import display_books_info"
   ]
  },
  {
   "cell_type": "markdown",
   "id": "251da05e",
   "metadata": {},
   "source": [
    "Loading the dataset"
   ]
  },
  {
   "cell_type": "code",
   "execution_count": 2,
   "id": "53a4da0c",
   "metadata": {},
   "outputs": [
    {
     "name": "stdout",
     "output_type": "stream",
     "text": [
      "<class 'pandas.core.frame.DataFrame'>\n",
      "RangeIndex: 87687 entries, 0 to 87686\n",
      "Data columns (total 12 columns):\n",
      " #   Column        Non-Null Count  Dtype  \n",
      "---  ------        --------------  -----  \n",
      " 0   title         87687 non-null  object \n",
      " 1   author        87687 non-null  object \n",
      " 2   desc          87687 non-null  object \n",
      " 3   genre         87687 non-null  object \n",
      " 4   rating        87687 non-null  float64\n",
      " 5   reviews       87687 non-null  int64  \n",
      " 6   totalratings  87687 non-null  int64  \n",
      " 7   pages         87687 non-null  int64  \n",
      " 8   img           87687 non-null  object \n",
      " 9   link          87687 non-null  object \n",
      " 10  isbn          87687 non-null  object \n",
      " 11  score         87687 non-null  float64\n",
      "dtypes: float64(2), int64(3), object(7)\n",
      "memory usage: 8.0+ MB\n"
     ]
    }
   ],
   "source": [
    "df = pd.read_csv(r'..\\datasets\\dataset.csv')\n",
    "df.info()"
   ]
  },
  {
   "cell_type": "markdown",
   "id": "43f350ab",
   "metadata": {},
   "source": [
    "### Encoding the embeddings in `Google Colab`\n",
    "\n",
    "Since it takes some compute power to encode the embeddings, I am gonna use `Google Colab` notebook and `T4 GPU` runtime.\n",
    "\n",
    "> [**Source link**](https://colab.research.google.com/drive/1GBtTwZAcCctheVXkqhp2jhIVQG_cCbnA?usp=sharing)"
   ]
  },
  {
   "cell_type": "markdown",
   "id": "3b2522ea",
   "metadata": {},
   "source": [
    "### Loading saved objects from `Google Colab`"
   ]
  },
  {
   "cell_type": "markdown",
   "id": "c01060cb",
   "metadata": {},
   "source": [
    "Loading the embeddings"
   ]
  },
  {
   "cell_type": "code",
   "execution_count": 3,
   "id": "33ce8a29",
   "metadata": {},
   "outputs": [],
   "source": [
    "embeddings = np.load(r\"..\\datasets\\book_embeddings.npy\")"
   ]
  },
  {
   "cell_type": "markdown",
   "id": "1f780f40",
   "metadata": {},
   "source": [
    "Loading the `faiss` index"
   ]
  },
  {
   "cell_type": "code",
   "execution_count": 5,
   "id": "2629e4d6",
   "metadata": {},
   "outputs": [],
   "source": [
    "index = faiss.read_index(r\"..\\datasets\\book_index.faiss\")"
   ]
  },
  {
   "cell_type": "markdown",
   "id": "1133d09b",
   "metadata": {},
   "source": [
    "### Main function"
   ]
  },
  {
   "cell_type": "markdown",
   "id": "6390cb5a",
   "metadata": {},
   "source": [
    "Recommend function"
   ]
  },
  {
   "cell_type": "code",
   "execution_count": 17,
   "id": "0ff638ea",
   "metadata": {},
   "outputs": [],
   "source": [
    "def recommend(book_index, k=5):\n",
    "  \"\"\"\n",
    "  Recommends k books similar to the given book.\n",
    "\n",
    "  Args:\n",
    "    book_index (int): The index of the book in the dataframe.\n",
    "    k (int): The number of books to recommend.\n",
    "\n",
    "  Returns:\n",
    "    A dataframe containing the recommended books.\n",
    "  \"\"\"\n",
    "\n",
    "  # getting embedding vector by book_index\n",
    "  query_vector = embeddings[book_index].reshape(1, -1)\n",
    "\n",
    "  # getting k + 1 similar vectors (+1 to exclude self)\n",
    "  D, I = index.search(query_vector, k + 1)\n",
    "\n",
    "  # returning a dataframe with selected indices (slicing by [1:] to exclude self)\n",
    "  return df.iloc[I[0][1:]]"
   ]
  },
  {
   "cell_type": "code",
   "execution_count": 19,
   "id": "0ffad9f1",
   "metadata": {},
   "outputs": [],
   "source": [
    "idx = int(df[df['title'].str.lower() == 'steve jobs'.lower()].index.values[0])"
   ]
  },
  {
   "cell_type": "code",
   "execution_count": 20,
   "id": "1ce924ea",
   "metadata": {},
   "outputs": [
    {
     "name": "stdout",
     "output_type": "stream",
     "text": [
      "Title: The Steve Jobs Way: iLeadership for a New Generation\n",
      "Author: Jay Elliot, William L. Simon\n",
      "Pages: 0\n",
      "Link: https://goodreads.com/book/show/10589332-the-steve-jobs-way\n"
     ]
    },
    {
     "data": {
      "text/html": [
       "<img src=\"https://i.gr-assets.com/images/S/compressed.photo.goodreads.com/books/1348771444l/10589332.jpg\" width=\"200\" height=\"300\"/>"
      ],
      "text/plain": [
       "<IPython.core.display.Image object>"
      ]
     },
     "metadata": {},
     "output_type": "display_data"
    },
    {
     "name": "stdout",
     "output_type": "stream",
     "text": [
      "\n",
      "\n",
      "Title: Insanely Simple: The Obsession That Drives Apple's Success\n",
      "Author: Ken Segall\n",
      "Pages: 240\n",
      "Link: https://goodreads.com/book/show/13383957-insanely-simple\n"
     ]
    },
    {
     "data": {
      "text/html": [
       "<img src=\"https://i.gr-assets.com/images/S/compressed.photo.goodreads.com/books/1329361021l/13383957.jpg\" width=\"200\" height=\"300\"/>"
      ],
      "text/plain": [
       "<IPython.core.display.Image object>"
      ]
     },
     "metadata": {},
     "output_type": "display_data"
    },
    {
     "name": "stdout",
     "output_type": "stream",
     "text": [
      "\n",
      "\n",
      "Title: I, Steve: Steve Jobs In His Own Words\n",
      "Author: George Beahm\n",
      "Pages: 160\n",
      "Link: https://goodreads.com/book/show/12634780-i-steve\n"
     ]
    },
    {
     "data": {
      "text/html": [
       "<img src=\"https://i.gr-assets.com/images/S/compressed.photo.goodreads.com/books/1357641830l/12634780.jpg\" width=\"200\" height=\"300\"/>"
      ],
      "text/plain": [
       "<IPython.core.display.Image object>"
      ]
     },
     "metadata": {},
     "output_type": "display_data"
    },
    {
     "name": "stdout",
     "output_type": "stream",
     "text": [
      "\n",
      "\n",
      "Title: Steve Jobs: Genius by Design\n",
      "Author: Jason Quinn, Amit Tayal, Tayal,  Amit\n",
      "Pages: 104\n",
      "Link: https://goodreads.com/book/show/13536324-steve-jobs\n"
     ]
    },
    {
     "data": {
      "text/html": [
       "<img src=\"https://i.gr-assets.com/images/S/compressed.photo.goodreads.com/books/1344369672l/13536324.jpg\" width=\"200\" height=\"300\"/>"
      ],
      "text/plain": [
       "<IPython.core.display.Image object>"
      ]
     },
     "metadata": {},
     "output_type": "display_data"
    },
    {
     "name": "stdout",
     "output_type": "stream",
     "text": [
      "\n",
      "\n",
      "Title: Steve Jobs: The Man Who Thought Different\n",
      "Author: Karen Blumenthal\n",
      "Pages: 320\n",
      "Link: https://goodreads.com/book/show/12969593-steve-jobs\n"
     ]
    },
    {
     "data": {
      "text/html": [
       "<img src=\"https://i.gr-assets.com/images/S/compressed.photo.goodreads.com/books/1359803535l/12969593.jpg\" width=\"200\" height=\"300\"/>"
      ],
      "text/plain": [
       "<IPython.core.display.Image object>"
      ]
     },
     "metadata": {},
     "output_type": "display_data"
    },
    {
     "name": "stdout",
     "output_type": "stream",
     "text": [
      "\n",
      "\n"
     ]
    }
   ],
   "source": [
    "display_books_info(recommend(idx))"
   ]
  },
  {
   "cell_type": "code",
   "execution_count": null,
   "id": "36a34eb2",
   "metadata": {},
   "outputs": [],
   "source": []
  }
 ],
 "metadata": {
  "kernelspec": {
   "display_name": ".venv",
   "language": "python",
   "name": "python3"
  },
  "language_info": {
   "codemirror_mode": {
    "name": "ipython",
    "version": 3
   },
   "file_extension": ".py",
   "mimetype": "text/x-python",
   "name": "python",
   "nbconvert_exporter": "python",
   "pygments_lexer": "ipython3",
   "version": "3.12.6"
  }
 },
 "nbformat": 4,
 "nbformat_minor": 5
}
