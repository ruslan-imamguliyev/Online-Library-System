{
 "cells": [
  {
   "cell_type": "markdown",
   "id": "df3ac3fb",
   "metadata": {},
   "source": [
    "# Model Building, Approach 2. `SentenceTransformer` + `faiss`"
   ]
  },
  {
   "cell_type": "markdown",
   "id": "2795a354",
   "metadata": {},
   "source": [
    "### Getting ready"
   ]
  },
  {
   "cell_type": "markdown",
   "id": "38a7f9a0",
   "metadata": {},
   "source": [
    "Importing libraries"
   ]
  },
  {
   "cell_type": "code",
   "execution_count": 1,
   "id": "88b66ba5",
   "metadata": {},
   "outputs": [
    {
     "name": "stderr",
     "output_type": "stream",
     "text": [
      "c:\\Users\\Ruslan\\Desktop\\Projects\\Python\\ML Project 1\\.venv\\Lib\\site-packages\\tqdm\\auto.py:21: TqdmWarning: IProgress not found. Please update jupyter and ipywidgets. See https://ipywidgets.readthedocs.io/en/stable/user_install.html\n",
      "  from .autonotebook import tqdm as notebook_tqdm\n"
     ]
    }
   ],
   "source": [
    "from sentence_transformers import SentenceTransformer\n",
    "import faiss\n",
    "import numpy as np\n",
    "import pandas as pd\n",
    "import sys; sys.path.insert(0, '../src'); from eda_utils import display_books_info"
   ]
  },
  {
   "cell_type": "markdown",
   "id": "251da05e",
   "metadata": {},
   "source": [
    "Loading the dataset"
   ]
  },
  {
   "cell_type": "code",
   "execution_count": 2,
   "id": "53a4da0c",
   "metadata": {},
   "outputs": [
    {
     "name": "stdout",
     "output_type": "stream",
     "text": [
      "<class 'pandas.core.frame.DataFrame'>\n",
      "RangeIndex: 41617 entries, 0 to 41616\n",
      "Data columns (total 25 columns):\n",
      " #   Column            Non-Null Count  Dtype  \n",
      "---  ------            --------------  -----  \n",
      " 0   bookId            41617 non-null  object \n",
      " 1   title             41617 non-null  object \n",
      " 2   series            20420 non-null  object \n",
      " 3   author            41617 non-null  object \n",
      " 4   rating            41617 non-null  float64\n",
      " 5   description       41617 non-null  object \n",
      " 6   language          41617 non-null  object \n",
      " 7   isbn              41617 non-null  object \n",
      " 8   genres            41617 non-null  object \n",
      " 9   characters        41617 non-null  object \n",
      " 10  bookFormat        41234 non-null  object \n",
      " 11  edition           3773 non-null   object \n",
      " 12  pages             40464 non-null  object \n",
      " 13  publisher         39307 non-null  object \n",
      " 14  publishDate       41298 non-null  object \n",
      " 15  firstPublishDate  25401 non-null  object \n",
      " 16  awards            41617 non-null  object \n",
      " 17  numRatings        41617 non-null  int64  \n",
      " 18  ratingsByStars    41617 non-null  object \n",
      " 19  likedPercent      41320 non-null  float64\n",
      " 20  setting           41617 non-null  object \n",
      " 21  coverImg          41617 non-null  object \n",
      " 22  bbeScore          41617 non-null  int64  \n",
      " 23  bbeVotes          41617 non-null  int64  \n",
      " 24  price             32885 non-null  object \n",
      "dtypes: float64(2), int64(3), object(20)\n",
      "memory usage: 7.9+ MB\n"
     ]
    }
   ],
   "source": [
    "df = pd.read_csv(r'..\\datasets\\preprocessed.csv')\n",
    "df.info()"
   ]
  },
  {
   "cell_type": "markdown",
   "id": "43f350ab",
   "metadata": {},
   "source": [
    "### Encoding the embeddings in `Google Colab`\n",
    "\n",
    "Since it takes some compute power to encode the embeddings, I am gonna use `Google Colab` notebook and `T4 GPU` runtime.\n",
    "\n",
    "> [**Source code**](https://colab.research.google.com/drive/1GBtTwZAcCctheVXkqhp2jhIVQG_cCbnA?usp=sharing)"
   ]
  },
  {
   "cell_type": "markdown",
   "id": "3b2522ea",
   "metadata": {},
   "source": [
    "### Loading saved objects from `Google Colab`"
   ]
  },
  {
   "cell_type": "markdown",
   "id": "c01060cb",
   "metadata": {},
   "source": [
    "Loading the embeddings"
   ]
  },
  {
   "cell_type": "code",
   "execution_count": 4,
   "id": "33ce8a29",
   "metadata": {},
   "outputs": [],
   "source": [
    "embeddings = np.load(r\"..\\assets\\models\\book_embeddings.npy\")"
   ]
  },
  {
   "cell_type": "markdown",
   "id": "1f780f40",
   "metadata": {},
   "source": [
    "Loading the `faiss` index"
   ]
  },
  {
   "cell_type": "code",
   "execution_count": 5,
   "id": "2629e4d6",
   "metadata": {},
   "outputs": [],
   "source": [
    "index = faiss.read_index(r\"..\\assets\\models\\book_index.faiss\")"
   ]
  },
  {
   "cell_type": "markdown",
   "id": "1133d09b",
   "metadata": {},
   "source": [
    "### Main function"
   ]
  },
  {
   "cell_type": "markdown",
   "id": "6390cb5a",
   "metadata": {},
   "source": [
    "Recommend function"
   ]
  },
  {
   "cell_type": "code",
   "execution_count": 6,
   "id": "0ff638ea",
   "metadata": {},
   "outputs": [],
   "source": [
    "def recommend(book_index, k=5):\n",
    "  \"\"\"\n",
    "  Recommends k books similar to the given book.\n",
    "\n",
    "  Args:\n",
    "    book_index (int): The index of the book in the dataframe.\n",
    "    k (int): The number of books to recommend.\n",
    "\n",
    "  Returns:\n",
    "    A dataframe containing the recommended books.\n",
    "  \"\"\"\n",
    "\n",
    "  # getting embedding vector by book_index\n",
    "  query_vector = embeddings[book_index].reshape(1, -1)\n",
    "\n",
    "  # getting k + 1 similar vectors (+1 to exclude self)\n",
    "  D, I = index.search(query_vector, k + 1)\n",
    "\n",
    "  # returning a dataframe with selected indices (slicing by [1:] to exclude self)\n",
    "  return df.iloc[I[0][1:]].to_dict(orient='records')"
   ]
  },
  {
   "cell_type": "code",
   "execution_count": 7,
   "id": "0ffad9f1",
   "metadata": {},
   "outputs": [
    {
     "data": {
      "text/plain": [
       "246"
      ]
     },
     "execution_count": 7,
     "metadata": {},
     "output_type": "execute_result"
    }
   ],
   "source": [
    "idx = int(df[df['title'].str.lower() == 'a clash of kings'.lower()].index.values[0])\n",
    "idx"
   ]
  },
  {
   "cell_type": "code",
   "execution_count": 10,
   "id": "92fbe461",
   "metadata": {},
   "outputs": [
    {
     "name": "stdout",
     "output_type": "stream",
     "text": [
      "Title: A Game of Thrones / A Clash of Kings\n",
      "Author: George R.R. Martin\n",
      "Desctiption: 2 eBooks in 1! George R. R. Martin, a writer of unsurpassed vision, power, and imagination, has created a landmark of fantasy fiction. Now his two epic works, A Game of Thrones and A Clash of Kings are combined together in this eBook edition. Sweeping from a harsh land of cold to a summertime kingdom of epicurean plenty, A Game of Thrones tells a tale of lords and ladies, soldiers and sorcerers, assassins and bastards who come together in a time of grim omens. Here, an enigmatic band of warriors bear swords of no human metal, a tribe of fierce wildings carry men off into madness, a cruel young dragon prince barters his sister to win back his throne, a child is lost in the twilight between life and death, and a determined woman undertakes a treacherous journey to protect all she holds dear. Amid plots and counterplots, tragedy and betrayal, victory and terror, allies and enemies, the fate of the Starks hangs perilously in the balance, as each side endeavors to win that deadliest of conflicts: the game of thrones. In the eagerly awaited second volume in this epic saga, he once again proves himself a master myth-maker, setting a standard against which all other fantasy novels will be measured for years to come. Time is out of joint. The summer of peace and plenty, ten years long, is drawing to a close, and the harsh, chill winter approaches like an angry beast. Two great leaders--Lord Eddard Stark and Robert Baratheon--who held sway over an age of enforced peace are dead...victims of royal treachery. Now, from the ancient citadel of Dragonstone to the forbidding shores of Winterfell, chaos reigns, as pretenders to the Iron Throne of the Seven Kingdoms prepare to stake their claims through tempest, turmoil, and war. As a prophecy of doom cuts across the sky--a comet the color of blood and flame--six factions struggle for control of a divided land. Eddard's son Robb has declared himself King in the North. In the south, Joffrey, the heir apparent, rules in name only, victim of the scheming courtiers who teem over King's Landing. Robert's two brothers each seek their own dominion, while a disfavored house turns once more to conquest. And a continent away, an exiled queen, the Mother of Dragons, risks everything to lead her precious brood across a hard hot desert to win back the crown that is rightfully hers. A Clash of Kings transports us into a magnificent, forgotten land of revelry and revenge, wizardry and warfare. It is a tale in which maidens cavort with madmen, brother plots against brother, and the dead rise to walk in the night. Here a princess masquerades as an orphan boy; a knight of the mind prepares a poison for a treacherous sorceress; and wild men descend from the Mountains of the Moon to ravage the countryside. Against a backdrop of incest and fratricide, alchemy and murder, the price of glory may be measured in blood. And the spoils of victory may just go to the men and women possessed of the coldest steel ... and the coldest hearts. For when rulers clash, all of the land feels the tremors. Audacious, inventive, brilliantly imagined, A Clash of Kings is a novel of dazzling beauty and boundless enchantment--a tale of pure excitement you will never forget.\n",
      "\n",
      "Title: A Storm of Swords: Steel and Snow\n",
      "Author: George R.R. Martin\n",
      "Desctiption: Winter approaches Westeros like an angry beast.The Seven Kingdoms are divided by revolt and blood feud. In the northern wastes, a horde of hungry, savage people steeped in the dark magic of the wilderness is poised to invade the Kingdom of the North where Robb Stark wears his new-forged crown. And Robb's defences are ranged against the South, the land of the cunning and cruel Lannisters, who have his young sisters in their power.Throughout Westeros, the war for the Iron Throne rages more fiercely than ever, but if the wall is breached, no king will live to claim it.\n",
      "\n",
      "Title: A Storm of Swords\n",
      "Author: George R.R. Martin\n",
      "Desctiption: An alternate cover for this isbn can be found here.Here is the third volume in George R.R. Martin's magnificent cycle of novels that includes A Game of Thrones and A Clash of Kings. Together, this series comprises a genuine masterpiece of modern fantasy, destined to stand as one of the great achievements of imaginative fiction.Of the five contenders for power, one is dead, another in disfavor, and still the wars rage as alliances are made and broken. Joffrey sits on the Iron Throne, the uneasy ruler of the Seven Kingdoms. His most bitter rival, Lord Stannis, stands defeated and disgraced, victim of the sorceress who holds him in her thrall. Young Robb still rules the North from the fortress of Riverrun. Meanwhile, making her way across a blood-drenched continent is the exiled queen, Daenerys, mistress of the only three dragons still left in the world. And as opposing forces manoeuver for the final showdown, an army of barbaric wildlings arrives from the outermost limits of civilization, accompanied by a horde of mythical Others—a supernatural army of the living dead whose animated corpses are unstoppable. As the future of the land hangs in the balance, no one will rest until the Seven Kingdoms have exploded in a veritable storm of swords...\n",
      "\n",
      "Title: King's Dragon\n",
      "Author: Kate Elliott (Goodreads Author)\n",
      "Desctiption: The Kingdom of Wendar is in turmoil. King Henry still holds the crown, but his reign has long been contested by his sister Sabella, and there are many eager to flock to her banner. Internal conflict weakens Wendar's defences, drawing raiders, human and inhuman, across its borders. Terrifying portents abound and dark spirits walk the land in broad daylight.Suddenly two innocents are thrust into the midst of the conflict. Alain, a young man granted a vision by the Lady of Battles, and Liath, a young woman with the power to change the course of history. Both must discover the truth about themselves before they can accept their fates. For in a war where sorcery, not swords, may determine the final outcome, the price of failure may be more than their own lives.\n",
      "\n",
      "Title: A Game of Thrones\n",
      "Author: George R.R. Martin\n",
      "Desctiption: Here is the first volume in George R. R. Martin’s magnificent cycle of novels that includes A Clash of Kings and A Storm of Swords. As a whole, this series comprises a genuine masterpiece of modern fantasy, bringing together the best the genre has to offer. Magic, mystery, intrigue, romance, and adventure fill these pages and transport us to a world unlike any we have ever experienced. Already hailed as a classic, George R. R. Martin’s stunning series is destined to stand as one of the great achievements of imaginative fiction.A GAME OF THRONESLong ago, in a time forgotten, a preternatural event threw the seasons out of balance. In a land where summers can last decades and winters a lifetime, trouble is brewing. The cold is returning, and in the frozen wastes to the north of Winterfell, sinister and supernatural forces are massing beyond the kingdom’s protective Wall. At the center of the conflict lie the Starks of Winterfell, a family as harsh and unyielding as the land they were born to. Sweeping from a land of brutal cold to a distant summertime kingdom of epicurean plenty, here is a tale of lords and ladies, soldiers and sorcerers, assassins and bastards, who come together in a time of grim omens.Here an enigmatic band of warriors bear swords of no human metal; a tribe of fierce wildlings carry men off into madness; a cruel young dragon prince barters his sister to win back his throne; and a determined woman undertakes the most treacherous of journeys. Amid plots and counterplots, tragedy and betrayal, victory and terror, the fate of the Starks, their allies, and their enemies hangs perilously in the balance, as each endeavors to win that deadliest of conflicts: the game of thrones.source: georgerrmartin.com\n",
      "\n",
      "Title: Falling Kingdoms\n",
      "Author: Morgan Rhodes (Goodreads Author), Michelle Rowen (Goodreads Author)\n",
      "Desctiption: In the three kingdoms of Mytica, magic has long been forgotten. And while hard-won peace has reigned for centuries, a deadly unrest now simmers below the surface.As the rulers of each kingdom grapple for power, the lives of their subjects are brutally transformed... and four key players, royals and rebels alike, find their fates forever intertwined. Cleo, Jonas, Lucia, and Magnus are caught in a dizzying world of treacherous betrayals, shocking murders, secret alliances, and even unforeseen love.The only outcome that's certain is that kingdoms will fall. Who will emerge triumphant when all they know has collapsed?It's the eve of war.... Choose your side.Princess: Raised in pampered luxury, Cleo must now embark on a rough and treacherous journey into enemy territory in search of magic long thought extinct.Rebel: Jonas, enraged at injustice, lashes out against the forces of oppression that have kept his country cruelly impoverished. To his shock, he finds himself the leader of a people's revolution centuries in the making.Sorceress: Lucia, adopted at birth into the royal family, discovers the truth about her past—and the supernatural legacy she is destined to wield.Heir: Bred for aggression and trained to conquer, firstborn son Magnus begins to realize that the heart can be more lethal than the sword....\n",
      "\n",
      "Title: Magician's End\n",
      "Author: Raymond E. Feist\n",
      "Desctiption: The final volume in the epic Riftwar Cycle.The dragons are calling...Civil war is tearing apart the Kingdom of the Isles, for the throne lies empty and rivals are converging. Having spirited his beloved Princess Stephane safely out of Roldem, Hal -now Duke of Crydee- must turn his attention to the defence of the ancient realm so that a king can be anointed by the Congress of Lords, rather than by right of might.But the greatest threat may well lie out of the hands of men. Somewhere in the Grey Towers Mountains something not of this world is emerging. It will require that alliances be made between mortal enemies if disaster is to be averted.Elves and men must stand together, ancient heroes must rise again, dragons must fly and Pug, Magnus and the other magic-users of Midkemia must be prepared to make the ultimate sacrifice if the whole world is to be saved.\n",
      "\n",
      "Title: A Storm of Swords: Blood and Gold\n",
      "Author: George R.R. Martin\n",
      "Desctiption: The Starks are scattered.Robb Stark may be King in the North, but he must bend to the will of the old tyrant Walder Frey if he is to hold his crown. And while his youngest sister, Arya, has escaped the clutches of the depraved Cersei Lannister and her son, the capricious boy-king Joffrey, Sansa Stark remains their captive.Meanwhile, across the ocean, Daenerys Stormborn, the last heir of the Dragon King, delivers death to the slave-trading cities of Astapor and Yunkai as she approaches Westeros with vengeance in her heart.\n",
      "\n",
      "Title: Iron and Blood (Iron Kingdom Saga #1)\n",
      "Author: Brad Farley (Goodreads Author)\n",
      "Desctiption: The Iron Kingdom: a half-mythical land conquered by barbarians an age ago, celebrated in songand legend. Here is a land of contrasts as beauty and savagery collide. The north-men, now savages no more,struggle to leave their brutal past behind as they strive to become more civilized and find peace. Yet, itremains a land of conflict ruled over by the Iron King, a mighty ruler, who is himself something of a legend.However, the king has grown old and the sun is setting on the days of his saga.Shadows grow long in the south, and Lord Garyth, a nobleman of doubtful lineage and agent of the crown isreturning home. A celebrated warrior within the Iron Kingdom, Garyth is eager to get back to his home andfamily. However, he has discovered a shadowy plot that threatens the kingdom. Countless orcs gather underone banner in the mountains, their hungry eyes looking north, while worse creatures join them. War looms onthe horizon, as some dark will seems to watch on in ravenous anticipation. To survive, the men of iron mustonce again fight against a seemingly overwhelming tide of darkness. However, this fight is not for land orwealth, this battle will be for their very survival.\n",
      "\n",
      "Title: A Song of Ice and Fire\n",
      "Author: George R.R. Martin\n",
      "Desctiption: For the first time, all five novels in the epic fantasy series that inspired HBO's \"Game of Thrones \"are together in one boxed set. An immersive entertainment experience unlike any other, A Song of Ice and Fire has earned George R. R. Martin--dubbed \"the American Tolkien\" by \"Time\" magazine--international acclaim and millions of loyal readers. Now here is the entire monumental cycle: A GAME OF THRONESA CLASH OF KINGSA STORM OF SWORDSA FEAST OF CROWSA DANCE WITH DRAGONS Winter is coming. Such is the stern motto of House Stark, the northernmost of the fiefdoms that owe allegiance to King Robert Baratheon in far-off King's Landing. There Eddard Stark of Winterfell rules in Robert's name. There his family dwells in peace and comfort: his proud wife, Catelyn; his sons Robb, Brandon, and Rickon; his daughters Sansa and Arya; and his bastard son, Jon Snow. Far to the north, behind the towering Wall, lie savage Wildings and worse--unnatural things relegated to myth during the centuries-long summer, but proving all too real and all too deadly in the turning of the season.  Yet a more immediate threat lurks to the south, where Jon Arryn, the Hand of the King, has died under mysterious circumstances. Now Robert is riding north to Winterfell, bringing his queen, the lovely but cold Cersei, his son, the cruel, vainglorious Prince Joffrey, and the queen's brothers Jaime and Tyrion of the powerful and wealthy House Lannister--the first a swordsman without equal, the second a dwarf whose stunted stature belies a brilliant mind. All are heading for Winterfell and a fateful encounter that will change the course of kingdoms.  Meanwhile, across the Narrow Sea, Prince Viserys, heir of the fallen House Targaryen, which once ruled all of Westeros, schemes to reclaim the throne with an army of barbarian Dothraki--whose loyalty he will purchase in the only coin left to him: his beautiful yet innocent sister, Daenerys.\"\n",
      "\n"
     ]
    }
   ],
   "source": [
    "recommendations = recommend(idx, k=10)\n",
    "for book in recommendations:\n",
    "    print(\"Title: \" + book['title'])\n",
    "    print(\"Author: \" + book['author'])\n",
    "    print(\"Desctiption: \" + book['description'])\n",
    "    print()"
   ]
  },
  {
   "cell_type": "code",
   "execution_count": 31,
   "id": "1ce924ea",
   "metadata": {},
   "outputs": [],
   "source": [
    "#display_books_info(recommend(idx, k=10))"
   ]
  },
  {
   "cell_type": "code",
   "execution_count": null,
   "id": "36a34eb2",
   "metadata": {},
   "outputs": [],
   "source": []
  }
 ],
 "metadata": {
  "kernelspec": {
   "display_name": ".venv",
   "language": "python",
   "name": "python3"
  },
  "language_info": {
   "codemirror_mode": {
    "name": "ipython",
    "version": 3
   },
   "file_extension": ".py",
   "mimetype": "text/x-python",
   "name": "python",
   "nbconvert_exporter": "python",
   "pygments_lexer": "ipython3",
   "version": "3.12.6"
  }
 },
 "nbformat": 4,
 "nbformat_minor": 5
}
