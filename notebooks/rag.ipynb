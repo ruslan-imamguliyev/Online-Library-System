{
 "cells": [
  {
   "cell_type": "markdown",
   "id": "c5c162bf",
   "metadata": {},
   "source": [
    "# Retrival Augmented Generation (RAG) with Book Recommendations"
   ]
  },
  {
   "cell_type": "markdown",
   "id": "29a2edc0",
   "metadata": {},
   "source": [
    "### Getting ready"
   ]
  },
  {
   "cell_type": "markdown",
   "id": "c657c588",
   "metadata": {},
   "source": [
    "Importing libraries"
   ]
  },
  {
   "cell_type": "code",
   "execution_count": 1,
   "id": "62642e40",
   "metadata": {},
   "outputs": [],
   "source": [
    "import faiss\n",
    "from sentence_transformers import SentenceTransformer\n",
    "\n",
    "import pandas as pd\n",
    "import numpy as np"
   ]
  },
  {
   "cell_type": "markdown",
   "id": "6d1749b9",
   "metadata": {},
   "source": [
    "Loading the dataset"
   ]
  },
  {
   "cell_type": "code",
   "execution_count": 3,
   "id": "1eb26d83",
   "metadata": {},
   "outputs": [
    {
     "name": "stdout",
     "output_type": "stream",
     "text": [
      "<class 'pandas.core.frame.DataFrame'>\n",
      "RangeIndex: 41617 entries, 0 to 41616\n",
      "Data columns (total 26 columns):\n",
      " #   Column            Non-Null Count  Dtype  \n",
      "---  ------            --------------  -----  \n",
      " 0   bookId            41617 non-null  object \n",
      " 1   title             41617 non-null  object \n",
      " 2   series            20420 non-null  object \n",
      " 3   author            41617 non-null  object \n",
      " 4   rating            41617 non-null  float64\n",
      " 5   description       41617 non-null  object \n",
      " 6   language          41617 non-null  object \n",
      " 7   isbn              41617 non-null  object \n",
      " 8   genres            41617 non-null  object \n",
      " 9   characters        41617 non-null  object \n",
      " 10  bookFormat        41234 non-null  object \n",
      " 11  edition           3773 non-null   object \n",
      " 12  pages             40464 non-null  object \n",
      " 13  publisher         39307 non-null  object \n",
      " 14  publishDate       41298 non-null  object \n",
      " 15  firstPublishDate  25401 non-null  object \n",
      " 16  awards            41617 non-null  object \n",
      " 17  numRatings        41617 non-null  int64  \n",
      " 18  ratingsByStars    41617 non-null  object \n",
      " 19  likedPercent      41320 non-null  float64\n",
      " 20  setting           41617 non-null  object \n",
      " 21  coverImg          41617 non-null  object \n",
      " 22  bbeScore          41617 non-null  int64  \n",
      " 23  bbeVotes          41617 non-null  int64  \n",
      " 24  price             32885 non-null  object \n",
      " 25  tags              41617 non-null  object \n",
      "dtypes: float64(2), int64(3), object(21)\n",
      "memory usage: 8.3+ MB\n"
     ]
    }
   ],
   "source": [
    "df = pd.read_csv(r'..\\assets\\datasets\\preprocessed_with_tags.csv')\n",
    "df.info()"
   ]
  },
  {
   "cell_type": "markdown",
   "id": "5f4da911",
   "metadata": {},
   "source": [
    "Loading the embeddings"
   ]
  },
  {
   "cell_type": "code",
   "execution_count": 4,
   "id": "6a462271",
   "metadata": {},
   "outputs": [],
   "source": [
    "embeddings = np.load(r\"..\\assets\\models\\book_embeddings.npy\")"
   ]
  },
  {
   "cell_type": "markdown",
   "id": "e36fea8a",
   "metadata": {},
   "source": [
    "Loading the `faiss` index"
   ]
  },
  {
   "cell_type": "code",
   "execution_count": 5,
   "id": "e9647e39",
   "metadata": {},
   "outputs": [],
   "source": [
    "index = faiss.read_index(r\"..\\assets\\models\\book_index.faiss\")"
   ]
  },
  {
   "cell_type": "markdown",
   "id": "b24b8ecb",
   "metadata": {},
   "source": [
    "Initiating `SentenceTransformer` model"
   ]
  },
  {
   "cell_type": "code",
   "execution_count": 7,
   "id": "58d9e216",
   "metadata": {},
   "outputs": [],
   "source": [
    "model = SentenceTransformer('all-MiniLM-L6-v2')"
   ]
  },
  {
   "cell_type": "markdown",
   "id": "40428b56",
   "metadata": {},
   "source": [
    "### Main function"
   ]
  },
  {
   "cell_type": "code",
   "execution_count": 16,
   "id": "ff0efb1f",
   "metadata": {},
   "outputs": [],
   "source": [
    "def recommend_from_query(\n",
    "    query: str,\n",
    "    k: int=5\n",
    ") -> list[dict]:\n",
    "    \"\"\"\n",
    "    Recommend books based on a query string.\n",
    "\n",
    "    Args:\n",
    "        query (str): The query string to search for.\n",
    "        k (int): The number of recommendations to return.\n",
    "    \n",
    "    Returns:\n",
    "        list[dict]: A list of dictionaries containing book recommendations.\n",
    "    \"\"\"\n",
    "\n",
    "    # Encoding query into embedding\n",
    "    query_embedding = model.encode(query)\n",
    "\n",
    "    # Search the FAISS index\n",
    "    distances, indices = index.search(np.array([query_embedding]), k)\n",
    "\n",
    "    # Return results as list of dictionaries\n",
    "    return df.iloc[indices[0][1:]].to_dict(orient='records')\n"
   ]
  },
  {
   "cell_type": "code",
   "execution_count": null,
   "id": "86420490",
   "metadata": {},
   "outputs": [
    {
     "name": "stdout",
     "output_type": "stream",
     "text": [
      "Query: 'fantasy adventure with magic and dragons'\n",
      "\n",
      "Title: The Coming of Dragons\n",
      "Author: A.J. Lake\n",
      "Description: \n",
      "  Edmund, a king’s son in disguise, and Elspeth, a sea captain’s tomboy daughter, are the only two survivors of a terrible shipwreck. They just want to go home, but fate has other plans as they are drawn into the fight against an evil warlord terrorizing their homeland. Accompanied by a mysterious minstrel and haunted by magical powers they did not seek, Edmund and Elspeth journey across a savage land of wild boars, fierce rogue knights, and black magic. Fantasy fans will devour this dramatic tale of mystery, wonder, and the power of friendship.\n",
      "\n",
      "\n",
      "\n",
      "Title: Dragon Age: The World of Thedas Volume 1\n",
      "Author: David Gaider, Ben Gelinas (Goodreads Author), Mike Laidlaw, Dave Marshall (Editor), Various (Illustrations)\n",
      "Description: For Dragon Age newcomers, this comprehensive volume brings you up to speed on everything you need to know about the regions, religions, monsters, magic, and more! For dedicated fans, never before have the secrets of BioWare's epic fantasy been revealed so completely and so compellingly! * Filled with never-before-seen art by the creators of the games! * New Dragon Age game coming in 2013! * From the writers and artists of the Dragon Age games. The definitive guide!\n",
      "\n",
      "\n",
      "--------------------------------------------------\n",
      "Query: 'romantic comedy set in modern times'\n",
      "\n",
      "Title: The Talisman Ring\n",
      "Author: Georgette Heyer\n",
      "Description: The Talisman Ring is one of Heyer's funniest and fastest-paced romantic comedies, telling the story of a fugitive heir, a tempestuous Frenchwoman, and the two sensible people who try to keep them out of trouble.\n",
      "\n",
      "\n",
      "Title: Swinging on a Star\n",
      "Author: Janice Thompson (Goodreads Author)\n",
      "Description: Bella Rossi's life is nearing perfection. She's got the perfect guy, she's running a successful business, and she's about to plan her most ambitious wedding yet, a Renaissance-themed fairy tale come true, complete with period costumes and foods, horse-drawn carriages, and even a castle. There's just one hitch. The best man just happens to be Brock Benson, Hollywood's hottest and most eligible bachelor. Oh, and did we mention he's staying at the Rossi house to avoid the paparazzi?With all the pressure surrounding this wedding, Bella's not sure she's going to make it through. Add her starstruck sister, her feuding aunt and uncle, and a trio of large, sequined church ladies with even bigger personalities, and you've got a recipe for disaster--and a lot of laughs. This hilarious romantic comedy is sure to delight both fans and new readers alike.\n",
      "\n",
      "\n",
      "--------------------------------------------------\n",
      "Query: 'psychological thriller with unreliable narrator'\n",
      "\n",
      "Title: Disclaimer\n",
      "Author: Renée Knight\n",
      "Description: WHAT IF YOU REALIZED THE TERRIFYING BOOK YOU WERE READING WAS ALL ABOUT YOU?A BRILLIANTLY CONCEIVED, DEEPLY DISTURBING PSYCHOLOGICAL THRILLER ABOUT A WOMAN HAUNTED BY SECRETS - AND THE PRICE SHE WILL PAY FOR CONCEALING THE TRUTHWhen a mysterious novel appears at Catherine Ravenscroft's bedside, she is curious. She has no idea who might have sent her The Perfect Stranger - or how it ended up on her nightstand. At first, she is intrigued by the suspenseful story that unfolds.And then she realizes.This isn't fiction.The Perfect Stranger recreates in vivid, unmistakable detail the day Catherine became hostage to a dark secret, a secret that only one other person knew - and that person is dead.Now that the past Catherine so desperately wants to forget is catching up with her, her world is falling apart. Plunged into a living nightmare, she knows that her only hope is to confront what really happened on that terrible day... even if the shocking truth might destroy her.\n",
      "\n",
      "\n",
      "Title: Penpal\n",
      "Author: Dathan Auerbach (Goodreads Author)\n",
      "Description: Penpal began as a series of short and interconnected stories posted on an online horror forum. Before long, it was adapted into illustrations, audio recordings, and short films; and that was before it was revised and expanded into a novel!How much do you remember about your childhood?In Penpal, a man investigates the seemingly unrelated bizarre, tragic, and horrific occurrences of his childhood in an attempt to finally understand them. Beginning with only fragments of his earliest years, you'll follow the narrator as he discovers that these strange and horrible events are actually part of a single terrifying story that has shaped the entirety of his life and the lives of those around him. If you've ever stayed in the woods just a little too long after dark, if you've ever had the feeling that someone or something was trying to hurt you, if you remember the first friend you ever made and how strong that bond was, then Penpal is a story that you won't soon forget, despite how you might try.\n",
      "\n",
      "\n",
      "--------------------------------------------------\n",
      "Query: 'historical fiction about World War II'\n",
      "\n",
      "Title: The Woeful Second World War\n",
      "Author: Terry Deary\n",
      "Description: The Woeful Second World War presents the dire details of a war that affected almost everyone - from old men joining the Dad's Army to the 12 year olds defending Berlin to the bitter end. Find out who made a meal of maggots, or which soldiers were so smelly their enemies could sniff them out.\n",
      "\n",
      "\n",
      "Title: War and Remembrance\n",
      "Author: Herman Wouk\n",
      "Description: These two classic works capture the tide of world events even as they unfold the compelling tale of a single American family drawn into the very center of the war's maelstrom.The multimillion-copy bestsellers that capture all the drama, romance, heroism, and tragedy of the Second World War -- and that constitute Wouk's crowning achievement -- are available for the first time in trade paperback.\n",
      "\n",
      "\n",
      "--------------------------------------------------\n",
      "Query: 'science fiction space exploration'\n",
      "\n",
      "Title: Journey Into Space\n",
      "Author: ToLitt (Goodreads Author)\n",
      "Description: A vast generation ship hurtles away from a violent, troubled Earth to settle on a distant planet orbiting an alien star. Those who set out on this journey are long-since dead. Those who will arrive at their destination have yet to be born. For those who must live and die in the cold emptiness between the stars, there is only the claustrophobic permanence of non-being. Life lived in unending stasis. Then the unthinkable happens: two souls - Auguste and Celeste - rebel. And from the fruit of their rebellion comes a new and powerful force which will take charge of the ship's destiny. \"Journey into Space\" is science fiction at its most classic and beguiling: timeless, vast in scope and daring in execution.\n",
      "\n",
      "\n",
      "Title: StarBridge\n",
      "Author: A.C. Crispin\n",
      "Description: From the author of the bestselling Star Trek books comes a thrilling galactic exploration. At Starbridge Academy three very different beings forge a friendship that transcends their races. Together, they make an astounding journey to save the future of the universe.\n",
      "\n",
      "\n",
      "--------------------------------------------------\n"
     ]
    },
    {
     "name": "stderr",
     "output_type": "stream",
     "text": [
      "c:\\Users\\Ruslan\\Desktop\\Projects\\Python\\ML Project 1\\.venv\\Lib\\site-packages\\torch\\nn\\modules\\module.py:1762: FutureWarning: `encoder_attention_mask` is deprecated and will be removed in version 4.55.0 for `BertSdpaSelfAttention.forward`.\n",
      "  return forward_call(*args, **kwargs)\n",
      "c:\\Users\\Ruslan\\Desktop\\Projects\\Python\\ML Project 1\\.venv\\Lib\\site-packages\\torch\\nn\\modules\\module.py:1762: FutureWarning: `encoder_attention_mask` is deprecated and will be removed in version 4.55.0 for `BertSdpaSelfAttention.forward`.\n",
      "  return forward_call(*args, **kwargs)\n",
      "c:\\Users\\Ruslan\\Desktop\\Projects\\Python\\ML Project 1\\.venv\\Lib\\site-packages\\torch\\nn\\modules\\module.py:1762: FutureWarning: `encoder_attention_mask` is deprecated and will be removed in version 4.55.0 for `BertSdpaSelfAttention.forward`.\n",
      "  return forward_call(*args, **kwargs)\n",
      "c:\\Users\\Ruslan\\Desktop\\Projects\\Python\\ML Project 1\\.venv\\Lib\\site-packages\\torch\\nn\\modules\\module.py:1762: FutureWarning: `encoder_attention_mask` is deprecated and will be removed in version 4.55.0 for `BertSdpaSelfAttention.forward`.\n",
      "  return forward_call(*args, **kwargs)\n",
      "c:\\Users\\Ruslan\\Desktop\\Projects\\Python\\ML Project 1\\.venv\\Lib\\site-packages\\torch\\nn\\modules\\module.py:1762: FutureWarning: `encoder_attention_mask` is deprecated and will be removed in version 4.55.0 for `BertSdpaSelfAttention.forward`.\n",
      "  return forward_call(*args, **kwargs)\n"
     ]
    }
   ],
   "source": [
    "queries = [\n",
    "        \"fantasy adventure with magic and dragons\",\n",
    "        \"romantic comedy set in modern times\",\n",
    "        \"psychological thriller with unreliable narrator\",\n",
    "        \"historical fiction about World War II\",\n",
    "        \"science fiction space exploration\"\n",
    "    ]\n",
    "    \n",
    "# Get recommendations for each query\n",
    "for query in queries:\n",
    "    print(f\"Query: '{query}'\\n\")\n",
    "    similar_books = recommend_from_query(query, k=3)\n",
    "    \n",
    "    for book in similar_books:\n",
    "        print(f\"Title: {book['title']}\")\n",
    "        print(f\"Author: {book['author']}\")\n",
    "        print(f\"Description: {book['description']}\")\n",
    "        print('\\n')\n",
    "\n",
    "    print('-' * 50)"
   ]
  },
  {
   "cell_type": "code",
   "execution_count": null,
   "id": "fd55d642",
   "metadata": {},
   "outputs": [],
   "source": []
  }
 ],
 "metadata": {
  "kernelspec": {
   "display_name": ".venv",
   "language": "python",
   "name": "python3"
  },
  "language_info": {
   "codemirror_mode": {
    "name": "ipython",
    "version": 3
   },
   "file_extension": ".py",
   "mimetype": "text/x-python",
   "name": "python",
   "nbconvert_exporter": "python",
   "pygments_lexer": "ipython3",
   "version": "3.12.6"
  }
 },
 "nbformat": 4,
 "nbformat_minor": 5
}
