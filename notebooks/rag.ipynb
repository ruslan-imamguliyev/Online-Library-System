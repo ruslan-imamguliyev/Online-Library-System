{
 "cells": [
  {
   "cell_type": "markdown",
   "id": "c5c162bf",
   "metadata": {},
   "source": [
    "# Retrival Augmented Generation (RAG) with Book Recommendations"
   ]
  },
  {
   "cell_type": "markdown",
   "id": "29a2edc0",
   "metadata": {},
   "source": [
    "### Getting ready"
   ]
  },
  {
   "cell_type": "markdown",
   "id": "c657c588",
   "metadata": {},
   "source": [
    "Importing libraries"
   ]
  },
  {
   "cell_type": "code",
   "execution_count": 1,
   "id": "62642e40",
   "metadata": {},
   "outputs": [],
   "source": [
    "import faiss\n",
    "from sentence_transformers import SentenceTransformer\n",
    "\n",
    "import pandas as pd\n",
    "import numpy as np"
   ]
  },
  {
   "cell_type": "markdown",
   "id": "6d1749b9",
   "metadata": {},
   "source": [
    "Loading the dataset"
   ]
  },
  {
   "cell_type": "code",
   "execution_count": 3,
   "id": "1eb26d83",
   "metadata": {},
   "outputs": [
    {
     "name": "stdout",
     "output_type": "stream",
     "text": [
      "<class 'pandas.core.frame.DataFrame'>\n",
      "RangeIndex: 41617 entries, 0 to 41616\n",
      "Data columns (total 26 columns):\n",
      " #   Column            Non-Null Count  Dtype  \n",
      "---  ------            --------------  -----  \n",
      " 0   bookId            41617 non-null  object \n",
      " 1   title             41617 non-null  object \n",
      " 2   series            20420 non-null  object \n",
      " 3   author            41617 non-null  object \n",
      " 4   rating            41617 non-null  float64\n",
      " 5   description       41617 non-null  object \n",
      " 6   language          41617 non-null  object \n",
      " 7   isbn              41617 non-null  object \n",
      " 8   genres            41617 non-null  object \n",
      " 9   characters        41617 non-null  object \n",
      " 10  bookFormat        41234 non-null  object \n",
      " 11  edition           3773 non-null   object \n",
      " 12  pages             40464 non-null  object \n",
      " 13  publisher         39307 non-null  object \n",
      " 14  publishDate       41298 non-null  object \n",
      " 15  firstPublishDate  25401 non-null  object \n",
      " 16  awards            41617 non-null  object \n",
      " 17  numRatings        41617 non-null  int64  \n",
      " 18  ratingsByStars    41617 non-null  object \n",
      " 19  likedPercent      41320 non-null  float64\n",
      " 20  setting           41617 non-null  object \n",
      " 21  coverImg          41617 non-null  object \n",
      " 22  bbeScore          41617 non-null  int64  \n",
      " 23  bbeVotes          41617 non-null  int64  \n",
      " 24  price             32885 non-null  object \n",
      " 25  tags              41617 non-null  object \n",
      "dtypes: float64(2), int64(3), object(21)\n",
      "memory usage: 8.3+ MB\n"
     ]
    }
   ],
   "source": [
    "df = pd.read_csv(r'..\\assets\\datasets\\preprocessed_with_tags.csv')\n",
    "df.info()"
   ]
  },
  {
   "cell_type": "markdown",
   "id": "5f4da911",
   "metadata": {},
   "source": [
    "Loading the embeddings"
   ]
  },
  {
   "cell_type": "code",
   "execution_count": 4,
   "id": "6a462271",
   "metadata": {},
   "outputs": [],
   "source": [
    "embeddings = np.load(r\"..\\assets\\models\\book_embeddings.npy\")"
   ]
  },
  {
   "cell_type": "markdown",
   "id": "e36fea8a",
   "metadata": {},
   "source": [
    "Loading the `faiss` index"
   ]
  },
  {
   "cell_type": "code",
   "execution_count": 5,
   "id": "e9647e39",
   "metadata": {},
   "outputs": [],
   "source": [
    "index = faiss.read_index(r\"..\\assets\\models\\book_index.faiss\")"
   ]
  },
  {
   "cell_type": "markdown",
   "id": "b24b8ecb",
   "metadata": {},
   "source": [
    "Initiating `SentenceTransformer` model"
   ]
  },
  {
   "cell_type": "code",
   "execution_count": 7,
   "id": "58d9e216",
   "metadata": {},
   "outputs": [],
   "source": [
    "model = SentenceTransformer('all-MiniLM-L6-v2')"
   ]
  },
  {
   "cell_type": "markdown",
   "id": "40428b56",
   "metadata": {},
   "source": [
    "### Main function"
   ]
  },
  {
   "cell_type": "code",
   "execution_count": 16,
   "id": "ff0efb1f",
   "metadata": {},
   "outputs": [],
   "source": [
    "def recommend_from_query(\n",
    "    query: str,\n",
    "    k: int=5\n",
    ") -> list[dict]:\n",
    "    \"\"\"\n",
    "    Recommend books based on a query string.\n",
    "\n",
    "    Args:\n",
    "        query (str): The query string to search for.\n",
    "        k (int): The number of recommendations to return.\n",
    "    \n",
    "    Returns:\n",
    "        list[dict]: A list of dictionaries containing book recommendations.\n",
    "    \"\"\"\n",
    "\n",
    "    # Encoding query into embedding\n",
    "    query_embedding = model.encode(query)\n",
    "\n",
    "    # Search the FAISS index\n",
    "    distances, indices = index.search(np.array([query_embedding]), k)\n",
    "\n",
    "    # Return results as list of dictionaries\n",
    "    return df.iloc[indices[0][1:]].to_dict(orient='records')\n"
   ]
  },
  {
   "cell_type": "code",
   "execution_count": 23,
   "id": "86420490",
   "metadata": {},
   "outputs": [
    {
     "name": "stdout",
     "output_type": "stream",
     "text": [
      "Query: 'Recommend me a book about hacking and cybersecurity'\n",
      "\n",
      "Title: The Hacker Crackdown: Law and Disorder on the Electronic Frontier\n",
      "Author: Bruce Sterling\n",
      "Description: A journalist investigates the past, present, and future of computer crimes, as he attends a hacker convention, documents the extent of the computer crimes, and presents intriguing facts about hackers and their misdoings.\n",
      "\n",
      "\n",
      "Title: The Hackers Code: The Great Prison Escape Project And Ways to Fly High in Life\n",
      "Author: A.K. Mars (Goodreads Author)\n",
      "Description: The Hackers Code is a great work of non-fiction inspirational book. In fact it is not just inspirational book but a lot to do with many essential parts of life.This book “The Hackers Code” is written to teach people that many of us are living life in some kind of prison. and this prison is present in our mind in the form of our belief, thoughts, behaviors and emotions. Many of us have dreams of our own and we give up on those things. and there are reasons for those. and there are blockages for those.Amazon Link to this wonderful book is :The Hackers Code: The Great Prison Escape Project And Ways to Fly High in Life: A. K. MARS: 9781522072942: Amazon.com: Books“The Hackers Code by A.K. MARS.” is release world wide and is available in the respective Amazon country websites in both kindle and paperback format.This book is one of the rare book in its own kind that teach us to be successful and teach us to really thrive in any part of our life. Let us see in details what and why these book has been written.Why This Book?-A large group of people are living in some kind of dreams; their ideal life; Unworked; Untouched; Unfulfilled.- People are in constant dilemma of subconscious confusion; leading their dreams nowhere and untouched. Current occupation, societal situations, unproductive habits, false assumptions, and behaviors become the blockage. This entire thing act as soldiers of enemy and surrounds people and they don’t seems to find any escape from these unknown prisons.- A large group of people lacks the proper knowledge, techniques and coaching to live productive, progressive, and authentic life style.- The purpose of this book is to provide the missing ingredients of life education hence empowering people to actualize themselves and live an optimum life.Expectation from book,- Understand the wider aspects and concepts of Life and their own Self. - Build the knowledge and expertise of the working and practical principles of Nature (spiritual as well as material side of nature) so they can design, develop and nurture their own life by their own terms, choice and will. As part of this, they will also be able to consciously craft their Life goals and work practically upon the process of accomplishments while having the answers of Why, What and How.- Gain practical knowledge of meditative and energy-based techniques that they can apply in their regular schedule and transform their life so they can become more Productive, Mindful and Authentic. What the book provide through content’s: - Knowledge of the key Laws of Nature in the spiritual and materialistic realm and will also provide open concepts about how everything is linked with each other.- A uniquely selected and carefully crafted short correlated inspirational stories, to support the other concepts and techniques provided in the book, about the life of legends from various fields and countries, which will further help them to closely develop the concepts and best practices.- Consciousness about unproductiveness, ambiguity, distraction and disturbances (lower focus and energy) based daily life scenarios.This book further provides the consciousness based concepts, hacking and lifestyle techniques to deal with such situations.\n",
      "\n",
      "\n",
      "Title: The Hacker and the Ants\n",
      "Author: Rudy Rucker\n",
      "Description: This cyberpunk adventure from Philip K. Dick award-winner, Rudy Rucker, reads like a ripped-from-Reddit romp of white hat hacking, artificial intelligence. run amok, and an unstoppable electronic 'bugs.' From a two-time winner of the Philip K. Dick award, and one of the founding fathers of cyberpunk comes a novel about a very modern nightmare: the most destructive computer virus ever has been traced to your machine. Computer programmer Jerzy Rugby spends his days blissfully hacking away in cyberspace - aiding the GoMotion Corporation in its noble quest to create intelligent robots. Then an electronic ant gets into the machinery ... then more ants .... then millions and millions of the nasty viral pests appear out of nowhere to wreak havoc throughout the Net. And suddenly Jerzy Rugby is Public Enemy Number One, wanted for sabotage, computer crime, and treason - a patsy who must now get to the bottom of the virtual insectile plague. \"Rudy Rucker warms the cockles of my heart ... I think of him as the Scarlet Pimpernel of science fiction.\" - Philip Jose Farmer\n",
      "\n",
      "\n",
      "Title: Hackers: Heroes of the Computer Revolution\n",
      "Author: Steven Levy (Goodreads Author)\n",
      "Description: A mere fifteen years ago, computer nerds were seen as marginal weirdos, outsiders whose world would never resonate with the mainstream. That was before one pioneering work documented the underground computer revolution that was about to change our world forever. With groundbreaking profiles of Bill Gates, Steve Wozniak, MIT's Tech Model Railroad Club, and more, Steven Levy's Hackers brilliantly captured a seminal moment when the risk-takers and explorers were poised to conquer twentieth-century America's last great frontier. And in the Internet age, the hacker ethic-first espoused here-is alive and well.\n",
      "\n",
      "\n",
      "--------------------------------------------------\n"
     ]
    },
    {
     "name": "stderr",
     "output_type": "stream",
     "text": [
      "c:\\Users\\Ruslan\\Desktop\\Projects\\Python\\ML Project 1\\.venv\\Lib\\site-packages\\torch\\nn\\modules\\module.py:1762: FutureWarning: `encoder_attention_mask` is deprecated and will be removed in version 4.55.0 for `BertSdpaSelfAttention.forward`.\n",
      "  return forward_call(*args, **kwargs)\n"
     ]
    }
   ],
   "source": [
    "queries = [\n",
    "        \"Recommend me a book about hacking and cybersecurity\"\n",
    "    ]\n",
    "    \n",
    "# Get recommendations for each query\n",
    "for query in queries:\n",
    "    print(f\"Query: '{query}'\\n\")\n",
    "    similar_books = recommend_from_query(query)\n",
    "    \n",
    "    for book in similar_books:\n",
    "        print(f\"Title: {book['title']}\")\n",
    "        print(f\"Author: {book['author']}\")\n",
    "        print(f\"Description: {book['description']}\")\n",
    "        print('\\n')\n",
    "\n",
    "    print('-' * 50)"
   ]
  },
  {
   "cell_type": "code",
   "execution_count": null,
   "id": "fd55d642",
   "metadata": {},
   "outputs": [],
   "source": []
  }
 ],
 "metadata": {
  "kernelspec": {
   "display_name": ".venv",
   "language": "python",
   "name": "python3"
  },
  "language_info": {
   "codemirror_mode": {
    "name": "ipython",
    "version": 3
   },
   "file_extension": ".py",
   "mimetype": "text/x-python",
   "name": "python",
   "nbconvert_exporter": "python",
   "pygments_lexer": "ipython3",
   "version": "3.12.6"
  }
 },
 "nbformat": 4,
 "nbformat_minor": 5
}
