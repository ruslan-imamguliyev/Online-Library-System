{
 "cells": [
  {
   "cell_type": "markdown",
   "id": "6d4271d5",
   "metadata": {},
   "source": [
    "# Exploratory Data Analysis"
   ]
  },
  {
   "cell_type": "markdown",
   "id": "d3820672",
   "metadata": {},
   "source": [
    "### Getting ready"
   ]
  },
  {
   "cell_type": "markdown",
   "id": "5b4294e1",
   "metadata": {},
   "source": [
    "Importing libraries"
   ]
  },
  {
   "cell_type": "code",
   "execution_count": 101,
   "id": "018620e3",
   "metadata": {},
   "outputs": [],
   "source": [
    "import pandas as pd\n",
    "import numpy as np\n",
    "from IPython.display import display, Image\n",
    "import ast\n",
    "import seaborn as sns\n",
    "import matplotlib.pyplot as plt"
   ]
  },
  {
   "cell_type": "markdown",
   "id": "a3b8371e",
   "metadata": {},
   "source": [
    "Loading the dataset"
   ]
  },
  {
   "cell_type": "code",
   "execution_count": 31,
   "id": "38520e75",
   "metadata": {},
   "outputs": [],
   "source": [
    "df = pd.read_csv(r'..\\datasets\\dataset.csv')"
   ]
  },
  {
   "cell_type": "code",
   "execution_count": 7,
   "id": "5e2e3966",
   "metadata": {},
   "outputs": [
    {
     "name": "stdout",
     "output_type": "stream",
     "text": [
      "<class 'pandas.core.frame.DataFrame'>\n",
      "RangeIndex: 89772 entries, 0 to 89771\n",
      "Data columns (total 12 columns):\n",
      " #   Column        Non-Null Count  Dtype  \n",
      "---  ------        --------------  -----  \n",
      " 0   title         89772 non-null  object \n",
      " 1   author        89772 non-null  object \n",
      " 2   desc          89772 non-null  object \n",
      " 3   genre         82710 non-null  object \n",
      " 4   rating        89772 non-null  float64\n",
      " 5   reviews       89772 non-null  int64  \n",
      " 6   totalratings  89772 non-null  int64  \n",
      " 7   pages         89772 non-null  int64  \n",
      " 8   img           89772 non-null  object \n",
      " 9   link          89772 non-null  object \n",
      " 10  isbn          78228 non-null  object \n",
      " 11  score         89772 non-null  float64\n",
      "dtypes: float64(2), int64(3), object(7)\n",
      "memory usage: 8.2+ MB\n"
     ]
    }
   ],
   "source": [
    "df.info()"
   ]
  },
  {
   "cell_type": "code",
   "execution_count": 19,
   "id": "028d31a4",
   "metadata": {},
   "outputs": [
    {
     "data": {
      "text/html": [
       "<div>\n",
       "<style scoped>\n",
       "    .dataframe tbody tr th:only-of-type {\n",
       "        vertical-align: middle;\n",
       "    }\n",
       "\n",
       "    .dataframe tbody tr th {\n",
       "        vertical-align: top;\n",
       "    }\n",
       "\n",
       "    .dataframe thead th {\n",
       "        text-align: right;\n",
       "    }\n",
       "</style>\n",
       "<table border=\"1\" class=\"dataframe\">\n",
       "  <thead>\n",
       "    <tr style=\"text-align: right;\">\n",
       "      <th></th>\n",
       "      <th>title</th>\n",
       "      <th>author</th>\n",
       "      <th>desc</th>\n",
       "      <th>genre</th>\n",
       "      <th>rating</th>\n",
       "      <th>reviews</th>\n",
       "      <th>totalratings</th>\n",
       "      <th>pages</th>\n",
       "      <th>img</th>\n",
       "      <th>link</th>\n",
       "      <th>isbn</th>\n",
       "      <th>score</th>\n",
       "    </tr>\n",
       "  </thead>\n",
       "  <tbody>\n",
       "    <tr>\n",
       "      <th>0</th>\n",
       "      <td>Between Two Fires: American Indians in the Civ...</td>\n",
       "      <td>['Laurence M. Hauptman']</td>\n",
       "      <td>Reveals that several hundred thousand Indians ...</td>\n",
       "      <td>['History', 'Military History', 'Civil War', '...</td>\n",
       "      <td>3.52</td>\n",
       "      <td>5</td>\n",
       "      <td>33</td>\n",
       "      <td>0</td>\n",
       "      <td>https://i.gr-assets.com/images/S/compressed.ph...</td>\n",
       "      <td>https://goodreads.com/book/show/1001053.Betwee...</td>\n",
       "      <td>002914180X</td>\n",
       "      <td>0.0</td>\n",
       "    </tr>\n",
       "    <tr>\n",
       "      <th>1</th>\n",
       "      <td>Fashion Sourcebook 1920s</td>\n",
       "      <td>['Charlotte Fiell', 'Emmanuelle Dirix']</td>\n",
       "      <td>Fashion Sourcebook - 1920s is the first book i...</td>\n",
       "      <td>['Couture', 'Fashion', 'Historical', 'Art', 'N...</td>\n",
       "      <td>4.51</td>\n",
       "      <td>6</td>\n",
       "      <td>41</td>\n",
       "      <td>576</td>\n",
       "      <td>https://i.gr-assets.com/images/S/compressed.ph...</td>\n",
       "      <td>https://goodreads.com/book/show/10010552-fashi...</td>\n",
       "      <td>1906863482</td>\n",
       "      <td>0.0</td>\n",
       "    </tr>\n",
       "    <tr>\n",
       "      <th>2</th>\n",
       "      <td>Hungary 56</td>\n",
       "      <td>['Andy Anderson']</td>\n",
       "      <td>The seminal history and analysis of the Hungar...</td>\n",
       "      <td>['Politics', 'History']</td>\n",
       "      <td>4.15</td>\n",
       "      <td>2</td>\n",
       "      <td>26</td>\n",
       "      <td>124</td>\n",
       "      <td>https://i.gr-assets.com/images/S/compressed.ph...</td>\n",
       "      <td>https://goodreads.com/book/show/1001077.Hungar...</td>\n",
       "      <td>948984147</td>\n",
       "      <td>0.0</td>\n",
       "    </tr>\n",
       "    <tr>\n",
       "      <th>3</th>\n",
       "      <td>All-American Anarchist: Joseph A. Labadie and ...</td>\n",
       "      <td>['Carlotta R. Anderson']</td>\n",
       "      <td>\"All-American Anarchist\" chronicles the life a...</td>\n",
       "      <td>['Labor', 'History']</td>\n",
       "      <td>3.83</td>\n",
       "      <td>1</td>\n",
       "      <td>6</td>\n",
       "      <td>324</td>\n",
       "      <td>https://i.gr-assets.com/images/S/compressed.ph...</td>\n",
       "      <td>https://goodreads.com/book/show/1001079.All_Am...</td>\n",
       "      <td>814327079</td>\n",
       "      <td>0.0</td>\n",
       "    </tr>\n",
       "    <tr>\n",
       "      <th>4</th>\n",
       "      <td>Les oiseaux gourmands</td>\n",
       "      <td>['Jean Leveille']</td>\n",
       "      <td>Aujourdâ€™hui, lâ€™oiseau nous invite Ã  sa ta...</td>\n",
       "      <td>NaN</td>\n",
       "      <td>4.00</td>\n",
       "      <td>1</td>\n",
       "      <td>1</td>\n",
       "      <td>177</td>\n",
       "      <td>https://i.gr-assets.com/images/S/compressed.ph...</td>\n",
       "      <td>https://goodreads.com/book/show/10010880-les-o...</td>\n",
       "      <td>2761920813</td>\n",
       "      <td>0.0</td>\n",
       "    </tr>\n",
       "  </tbody>\n",
       "</table>\n",
       "</div>"
      ],
      "text/plain": [
       "                                               title  \\\n",
       "0  Between Two Fires: American Indians in the Civ...   \n",
       "1                           Fashion Sourcebook 1920s   \n",
       "2                                         Hungary 56   \n",
       "3  All-American Anarchist: Joseph A. Labadie and ...   \n",
       "4                              Les oiseaux gourmands   \n",
       "\n",
       "                                    author  \\\n",
       "0                 ['Laurence M. Hauptman']   \n",
       "1  ['Charlotte Fiell', 'Emmanuelle Dirix']   \n",
       "2                        ['Andy Anderson']   \n",
       "3                 ['Carlotta R. Anderson']   \n",
       "4                        ['Jean Leveille']   \n",
       "\n",
       "                                                desc  \\\n",
       "0  Reveals that several hundred thousand Indians ...   \n",
       "1  Fashion Sourcebook - 1920s is the first book i...   \n",
       "2  The seminal history and analysis of the Hungar...   \n",
       "3  \"All-American Anarchist\" chronicles the life a...   \n",
       "4  Aujourdâ€™hui, lâ€™oiseau nous invite Ã  sa ta...   \n",
       "\n",
       "                                               genre  rating  reviews  \\\n",
       "0  ['History', 'Military History', 'Civil War', '...    3.52        5   \n",
       "1  ['Couture', 'Fashion', 'Historical', 'Art', 'N...    4.51        6   \n",
       "2                            ['Politics', 'History']    4.15        2   \n",
       "3                               ['Labor', 'History']    3.83        1   \n",
       "4                                                NaN    4.00        1   \n",
       "\n",
       "   totalratings  pages                                                img  \\\n",
       "0            33      0  https://i.gr-assets.com/images/S/compressed.ph...   \n",
       "1            41    576  https://i.gr-assets.com/images/S/compressed.ph...   \n",
       "2            26    124  https://i.gr-assets.com/images/S/compressed.ph...   \n",
       "3             6    324  https://i.gr-assets.com/images/S/compressed.ph...   \n",
       "4             1    177  https://i.gr-assets.com/images/S/compressed.ph...   \n",
       "\n",
       "                                                link        isbn  score  \n",
       "0  https://goodreads.com/book/show/1001053.Betwee...  002914180X    0.0  \n",
       "1  https://goodreads.com/book/show/10010552-fashi...  1906863482    0.0  \n",
       "2  https://goodreads.com/book/show/1001077.Hungar...   948984147    0.0  \n",
       "3  https://goodreads.com/book/show/1001079.All_Am...   814327079    0.0  \n",
       "4  https://goodreads.com/book/show/10010880-les-o...  2761920813    0.0  "
      ]
     },
     "execution_count": 19,
     "metadata": {},
     "output_type": "execute_result"
    }
   ],
   "source": [
    "df.head()"
   ]
  },
  {
   "cell_type": "markdown",
   "id": "6fdc5876",
   "metadata": {},
   "source": [
    "### EDA"
   ]
  },
  {
   "cell_type": "markdown",
   "id": "e7a53bfa",
   "metadata": {},
   "source": [
    "Utils functions"
   ]
  },
  {
   "cell_type": "code",
   "execution_count": 90,
   "id": "a9ce8f65",
   "metadata": {},
   "outputs": [],
   "source": [
    "def display_books_info(books: pd.DataFrame) -> None:\n",
    "    \"\"\"\n",
    "    Takes a `books` dataframe and displays each book's title, author, link and image.\n",
    "    \"\"\"\n",
    "    for index, row in books.iterrows():\n",
    "        print(f\"Title: {row['title']}\")\n",
    "        if type(row['author']) == list:\n",
    "            print(f\"Author: {\", \".join(row['author'])}\")\n",
    "        else:\n",
    "            print(f\"Author: {\", \".join(ast.literal_eval(row['author']))}\")\n",
    "        print(f\"Pages: {row['pages']}\")\n",
    "        print(f\"Link: {row['link']}\")\n",
    "        display(Image(url=row['img'], width=200, height=300))\n",
    "        print(\"\\n\")\n",
    "    "
   ]
  },
  {
   "cell_type": "markdown",
   "id": "48c961ad",
   "metadata": {},
   "source": [
    "Most Rated Books"
   ]
  },
  {
   "cell_type": "code",
   "execution_count": 32,
   "id": "e22b227e",
   "metadata": {},
   "outputs": [
    {
     "name": "stdout",
     "output_type": "stream",
     "text": [
      "Title: The Fault in Our Stars\n",
      "Author: John Green\n",
      "Link: https://goodreads.com/book/show/11870085-the-fault-in-our-stars\n"
     ]
    },
    {
     "data": {
      "text/html": [
       "<img src=\"https://i.gr-assets.com/images/S/compressed.photo.goodreads.com/books/1360206420l/11870085.jpg\" width=\"200\" height=\"300\"/>"
      ],
      "text/plain": [
       "<IPython.core.display.Image object>"
      ]
     },
     "metadata": {},
     "output_type": "display_data"
    },
    {
     "name": "stdout",
     "output_type": "stream",
     "text": [
      "\n",
      "\n",
      "Title: Harry Potter and the Deathly Hallows\n",
      "Author: J.K. Rowling\n",
      "Link: https://goodreads.com/book/show/136251.Harry_Potter_and_the_Deathly_Hallows\n"
     ]
    },
    {
     "data": {
      "text/html": [
       "<img src=\"https://i.gr-assets.com/images/S/compressed.photo.goodreads.com/books/1474171184l/136251._SY475_.jpg\" width=\"200\" height=\"300\"/>"
      ],
      "text/plain": [
       "<IPython.core.display.Image object>"
      ]
     },
     "metadata": {},
     "output_type": "display_data"
    },
    {
     "name": "stdout",
     "output_type": "stream",
     "text": [
      "\n",
      "\n",
      "Title: Harry Potter and the Chamber of Secrets\n",
      "Author: J.K. Rowling, Mary GrandPrÃ©\n",
      "Link: https://goodreads.com/book/show/15881.Harry_Potter_and_the_Chamber_of_Secrets\n"
     ]
    },
    {
     "data": {
      "text/html": [
       "<img src=\"https://i.gr-assets.com/images/S/compressed.photo.goodreads.com/books/1474169725l/15881._SY475_.jpg\" width=\"200\" height=\"300\"/>"
      ],
      "text/plain": [
       "<IPython.core.display.Image object>"
      ]
     },
     "metadata": {},
     "output_type": "display_data"
    },
    {
     "name": "stdout",
     "output_type": "stream",
     "text": [
      "\n",
      "\n",
      "Title: Divergent\n",
      "Author: Veronica Roth\n",
      "Link: https://goodreads.com/book/show/13335037-divergent\n"
     ]
    },
    {
     "data": {
      "text/html": [
       "<img src=\"https://i.gr-assets.com/images/S/compressed.photo.goodreads.com/books/1618526890l/13335037._SY475_.jpg\" width=\"200\" height=\"300\"/>"
      ],
      "text/plain": [
       "<IPython.core.display.Image object>"
      ]
     },
     "metadata": {},
     "output_type": "display_data"
    },
    {
     "name": "stdout",
     "output_type": "stream",
     "text": [
      "\n",
      "\n",
      "Title: Animal Farm\n",
      "Author: George Orwell, Russell Baker, C.M. Woodhouse\n",
      "Link: https://goodreads.com/book/show/170448.Animal_Farm\n"
     ]
    },
    {
     "data": {
      "text/html": [
       "<img src=\"https://i.gr-assets.com/images/S/compressed.photo.goodreads.com/books/1325861570l/170448.jpg\" width=\"200\" height=\"300\"/>"
      ],
      "text/plain": [
       "<IPython.core.display.Image object>"
      ]
     },
     "metadata": {},
     "output_type": "display_data"
    },
    {
     "name": "stdout",
     "output_type": "stream",
     "text": [
      "\n",
      "\n"
     ]
    }
   ],
   "source": [
    "most_rated_books = df.sort_values(by='score', ascending=False).head()\n",
    "display_books_info(most_rated_books)"
   ]
  },
  {
   "cell_type": "markdown",
   "id": "7e6d121b",
   "metadata": {},
   "source": [
    "Most Popular Books"
   ]
  },
  {
   "cell_type": "code",
   "execution_count": 33,
   "id": "0a1f7c3b",
   "metadata": {},
   "outputs": [
    {
     "name": "stdout",
     "output_type": "stream",
     "text": [
      "Title: The Fault in Our Stars\n",
      "Author: John Green\n",
      "Link: https://goodreads.com/book/show/11870085-the-fault-in-our-stars\n"
     ]
    },
    {
     "data": {
      "text/html": [
       "<img src=\"https://i.gr-assets.com/images/S/compressed.photo.goodreads.com/books/1360206420l/11870085.jpg\" width=\"200\" height=\"300\"/>"
      ],
      "text/plain": [
       "<IPython.core.display.Image object>"
      ]
     },
     "metadata": {},
     "output_type": "display_data"
    },
    {
     "name": "stdout",
     "output_type": "stream",
     "text": [
      "\n",
      "\n",
      "Title: Divergent\n",
      "Author: Veronica Roth\n",
      "Link: https://goodreads.com/book/show/13335037-divergent\n"
     ]
    },
    {
     "data": {
      "text/html": [
       "<img src=\"https://i.gr-assets.com/images/S/compressed.photo.goodreads.com/books/1618526890l/13335037._SY475_.jpg\" width=\"200\" height=\"300\"/>"
      ],
      "text/plain": [
       "<IPython.core.display.Image object>"
      ]
     },
     "metadata": {},
     "output_type": "display_data"
    },
    {
     "name": "stdout",
     "output_type": "stream",
     "text": [
      "\n",
      "\n",
      "Title: Harry Potter and the Deathly Hallows\n",
      "Author: J.K. Rowling\n",
      "Link: https://goodreads.com/book/show/136251.Harry_Potter_and_the_Deathly_Hallows\n"
     ]
    },
    {
     "data": {
      "text/html": [
       "<img src=\"https://i.gr-assets.com/images/S/compressed.photo.goodreads.com/books/1474171184l/136251._SY475_.jpg\" width=\"200\" height=\"300\"/>"
      ],
      "text/plain": [
       "<IPython.core.display.Image object>"
      ]
     },
     "metadata": {},
     "output_type": "display_data"
    },
    {
     "name": "stdout",
     "output_type": "stream",
     "text": [
      "\n",
      "\n",
      "Title: Animal Farm\n",
      "Author: George Orwell, Russell Baker, C.M. Woodhouse\n",
      "Link: https://goodreads.com/book/show/170448.Animal_Farm\n"
     ]
    },
    {
     "data": {
      "text/html": [
       "<img src=\"https://i.gr-assets.com/images/S/compressed.photo.goodreads.com/books/1325861570l/170448.jpg\" width=\"200\" height=\"300\"/>"
      ],
      "text/plain": [
       "<IPython.core.display.Image object>"
      ]
     },
     "metadata": {},
     "output_type": "display_data"
    },
    {
     "name": "stdout",
     "output_type": "stream",
     "text": [
      "\n",
      "\n",
      "Title: Harry Potter and the Chamber of Secrets\n",
      "Author: J.K. Rowling, Mary GrandPrÃ©\n",
      "Link: https://goodreads.com/book/show/15881.Harry_Potter_and_the_Chamber_of_Secrets\n"
     ]
    },
    {
     "data": {
      "text/html": [
       "<img src=\"https://i.gr-assets.com/images/S/compressed.photo.goodreads.com/books/1474169725l/15881._SY475_.jpg\" width=\"200\" height=\"300\"/>"
      ],
      "text/plain": [
       "<IPython.core.display.Image object>"
      ]
     },
     "metadata": {},
     "output_type": "display_data"
    },
    {
     "name": "stdout",
     "output_type": "stream",
     "text": [
      "\n",
      "\n"
     ]
    }
   ],
   "source": [
    "most_popular_books = df.sort_values(by='totalratings', ascending=False).head()\n",
    "display_books_info(most_popular_books)"
   ]
  },
  {
   "cell_type": "markdown",
   "id": "1ce9622f",
   "metadata": {},
   "source": [
    "Authors with Most Books written"
   ]
  },
  {
   "cell_type": "code",
   "execution_count": 34,
   "id": "e564f10e",
   "metadata": {},
   "outputs": [],
   "source": [
    "df['author'] = df['author'].apply(lambda x: ast.literal_eval(x))"
   ]
  },
  {
   "cell_type": "code",
   "execution_count": 71,
   "id": "de513c36",
   "metadata": {},
   "outputs": [
    {
     "data": {
      "image/png": "[encoded data removed]",
      "text/plain": [
       "<Figure size 640x480 with 1 Axes>"
      ]
     },
     "metadata": {},
     "output_type": "display_data"
    }
   ],
   "source": [
    "df.explode('author').groupby('author')['title'].count().sort_values(ascending=False).head(10).plot.barh();"
   ]
  },
  {
   "cell_type": "markdown",
   "id": "82185855",
   "metadata": {},
   "source": [
    "Most Successful Authors (by `score`)"
   ]
  },
  {
   "cell_type": "code",
   "execution_count": 72,
   "id": "8a59d667",
   "metadata": {},
   "outputs": [
    {
     "data": {
      "image/png": "[encoded data removed]",
      "text/plain": [
       "<Figure size 640x480 with 1 Axes>"
      ]
     },
     "metadata": {},
     "output_type": "display_data"
    }
   ],
   "source": [
    "df.explode('author').groupby('author')['score'].mean().sort_values(ascending=False).head(10).plot.barh();"
   ]
  },
  {
   "cell_type": "markdown",
   "id": "6a259bdc",
   "metadata": {},
   "source": [
    "Most Popular Genre"
   ]
  },
  {
   "cell_type": "code",
   "execution_count": 64,
   "id": "bf5b827e",
   "metadata": {},
   "outputs": [],
   "source": [
    "df['genre'].fillna('[]', inplace=True)\n",
    "df['genre'] = df['genre'].apply(lambda x: ast.literal_eval(x))"
   ]
  },
  {
   "cell_type": "code",
   "execution_count": 73,
   "id": "0e405093",
   "metadata": {},
   "outputs": [
    {
     "data": {
      "image/png": "[encoded data removed]",
      "text/plain": [
       "<Figure size 640x480 with 1 Axes>"
      ]
     },
     "metadata": {},
     "output_type": "display_data"
    }
   ],
   "source": [
    "df.explode('genre').groupby('genre')['title'].count().sort_values(ascending=False).head(10).plot.barh();"
   ]
  },
  {
   "cell_type": "markdown",
   "id": "e9937305",
   "metadata": {},
   "source": [
    "Books with Most Pages"
   ]
  },
  {
   "cell_type": "code",
   "execution_count": 91,
   "id": "cde5a8b7",
   "metadata": {},
   "outputs": [
    {
     "name": "stdout",
     "output_type": "stream",
     "text": [
      "Title: Assisting the Traumatized Soul: Healing the Wounded Talisman\n",
      "Author: Phyllis Peterson\n",
      "Pages: 70000\n",
      "Link: https://goodreads.com/book/show/1207704.Assisting_the_Traumatized_Soul\n"
     ]
    },
    {
     "data": {
      "text/html": [
       "<img src=\"https://i.gr-assets.com/images/S/compressed.photo.goodreads.com/books/1266744527l/1207704.jpg\" width=\"200\" height=\"300\"/>"
      ],
      "text/plain": [
       "<IPython.core.display.Image object>"
      ]
     },
     "metadata": {},
     "output_type": "display_data"
    },
    {
     "name": "stdout",
     "output_type": "stream",
     "text": [
      "\n",
      "\n",
      "Title: Encyclopaedia Britannica (Set)\n",
      "Author: EncyclopÃ¦dia Britannica\n",
      "Pages: 32000\n",
      "Link: https://goodreads.com/book/show/1601986.Encyclopaedia_Britannica\n"
     ]
    },
    {
     "data": {
      "text/html": [
       "<img src=\"https://i.gr-assets.com/images/S/compressed.photo.goodreads.com/books/1554534503l/1601986._SX318_.jpg\" width=\"200\" height=\"300\"/>"
      ],
      "text/plain": [
       "<IPython.core.display.Image object>"
      ]
     },
     "metadata": {},
     "output_type": "display_data"
    },
    {
     "name": "stdout",
     "output_type": "stream",
     "text": [
      "\n",
      "\n",
      "Title: The Complete Works of Charles Dickens\n",
      "Author: Charles Dickens\n",
      "Pages: 21723\n",
      "Link: https://goodreads.com/book/show/11523199-the-complete-works-of-charles-dickens\n"
     ]
    },
    {
     "data": {
      "text/html": [
       "<img src=\"https://i.gr-assets.com/images/S/compressed.photo.goodreads.com/books/1328146371l/11523199.jpg\" width=\"200\" height=\"300\"/>"
      ],
      "text/plain": [
       "<IPython.core.display.Image object>"
      ]
     },
     "metadata": {},
     "output_type": "display_data"
    },
    {
     "name": "stdout",
     "output_type": "stream",
     "text": [
      "\n",
      "\n",
      "Title: Works of Honore de Balzac\n",
      "Author: HonorÃ© de Balzac\n",
      "Pages: 15918\n",
      "Link: https://goodreads.com/book/show/17158707-works-of-honore-de-balzac\n"
     ]
    },
    {
     "data": {
      "text/html": [
       "<img src=\"https://i.gr-assets.com/images/S/compressed.photo.goodreads.com/books/1417294768l/17158707.jpg\" width=\"200\" height=\"300\"/>"
      ],
      "text/plain": [
       "<IPython.core.display.Image object>"
      ]
     },
     "metadata": {},
     "output_type": "display_data"
    },
    {
     "name": "stdout",
     "output_type": "stream",
     "text": [
      "\n",
      "\n",
      "Title: Encyclopedia of Language and Linguistics, 14-Volume Set: V1-14\n",
      "Author: Keith Brown\n",
      "Pages: 9000\n",
      "Link: https://goodreads.com/book/show/1183973.Encyclopedia_of_Language_and_Linguistics_14_Volume_Set\n"
     ]
    },
    {
     "data": {
      "text/html": [
       "<img src=\"https://i.gr-assets.com/images/S/compressed.photo.goodreads.com/books/1181717627l/1183973._SX318_.jpg\" width=\"200\" height=\"300\"/>"
      ],
      "text/plain": [
       "<IPython.core.display.Image object>"
      ]
     },
     "metadata": {},
     "output_type": "display_data"
    },
    {
     "name": "stdout",
     "output_type": "stream",
     "text": [
      "\n",
      "\n"
     ]
    }
   ],
   "source": [
    "display_books_info(df.sort_values(by='pages', ascending=False).head())"
   ]
  },
  {
   "cell_type": "markdown",
   "id": "418f3afa",
   "metadata": {},
   "source": [
    "Book with most Reviews"
   ]
  },
  {
   "cell_type": "code",
   "execution_count": 120,
   "id": "fb5fab1b",
   "metadata": {},
   "outputs": [
    {
     "name": "stdout",
     "output_type": "stream",
     "text": [
      "Title: The Fault in Our Stars\n",
      "Author: John Green\n",
      "Pages: 313\n",
      "Link: https://goodreads.com/book/show/11870085-the-fault-in-our-stars\n"
     ]
    },
    {
     "data": {
      "text/html": [
       "<img src=\"https://i.gr-assets.com/images/S/compressed.photo.goodreads.com/books/1360206420l/11870085.jpg\" width=\"200\" height=\"300\"/>"
      ],
      "text/plain": [
       "<IPython.core.display.Image object>"
      ]
     },
     "metadata": {},
     "output_type": "display_data"
    },
    {
     "name": "stdout",
     "output_type": "stream",
     "text": [
      "\n",
      "\n",
      "Title: Divergent\n",
      "Author: Veronica Roth\n",
      "Pages: 487\n",
      "Link: https://goodreads.com/book/show/13335037-divergent\n"
     ]
    },
    {
     "data": {
      "text/html": [
       "<img src=\"https://i.gr-assets.com/images/S/compressed.photo.goodreads.com/books/1618526890l/13335037._SY475_.jpg\" width=\"200\" height=\"300\"/>"
      ],
      "text/plain": [
       "<IPython.core.display.Image object>"
      ]
     },
     "metadata": {},
     "output_type": "display_data"
    },
    {
     "name": "stdout",
     "output_type": "stream",
     "text": [
      "\n",
      "\n",
      "Title: Fifty Shades of Grey\n",
      "Author: E.L. James\n",
      "Pages: 356\n",
      "Link: https://goodreads.com/book/show/10818853-fifty-shades-of-grey\n"
     ]
    },
    {
     "data": {
      "text/html": [
       "<img src=\"https://i.gr-assets.com/images/S/compressed.photo.goodreads.com/books/1385207843l/10818853.jpg\" width=\"200\" height=\"300\"/>"
      ],
      "text/plain": [
       "<IPython.core.display.Image object>"
      ]
     },
     "metadata": {},
     "output_type": "display_data"
    },
    {
     "name": "stdout",
     "output_type": "stream",
     "text": [
      "\n",
      "\n",
      "Title: Harry Potter and the Deathly Hallows\n",
      "Author: J.K. Rowling\n",
      "Pages: 759\n",
      "Link: https://goodreads.com/book/show/136251.Harry_Potter_and_the_Deathly_Hallows\n"
     ]
    },
    {
     "data": {
      "text/html": [
       "<img src=\"https://i.gr-assets.com/images/S/compressed.photo.goodreads.com/books/1474171184l/136251._SY475_.jpg\" width=\"200\" height=\"300\"/>"
      ],
      "text/plain": [
       "<IPython.core.display.Image object>"
      ]
     },
     "metadata": {},
     "output_type": "display_data"
    },
    {
     "name": "stdout",
     "output_type": "stream",
     "text": [
      "\n",
      "\n",
      "Title: Eleanor & Park\n",
      "Author: Rainbow Rowell\n",
      "Pages: 328\n",
      "Link: https://goodreads.com/book/show/15745753-eleanor-park\n"
     ]
    },
    {
     "data": {
      "text/html": [
       "<img src=\"https://i.gr-assets.com/images/S/compressed.photo.goodreads.com/books/1341952742l/15745753.jpg\" width=\"200\" height=\"300\"/>"
      ],
      "text/plain": [
       "<IPython.core.display.Image object>"
      ]
     },
     "metadata": {},
     "output_type": "display_data"
    },
    {
     "name": "stdout",
     "output_type": "stream",
     "text": [
      "\n",
      "\n"
     ]
    }
   ],
   "source": [
    "display_books_info(df.sort_values(by='reviews', ascending=False).head())"
   ]
  },
  {
   "cell_type": "code",
   "execution_count": null,
   "id": "a1eb544e",
   "metadata": {},
   "outputs": [],
   "source": []
  },
  {
   "cell_type": "code",
   "execution_count": null,
   "id": "4ab94a07",
   "metadata": {},
   "outputs": [],
   "source": []
  }
 ],
 "metadata": {
  "kernelspec": {
   "display_name": ".venv",
   "language": "python",
   "name": "python3"
  },
  "language_info": {
   "codemirror_mode": {
    "name": "ipython",
    "version": 3
   },
   "file_extension": ".py",
   "mimetype": "text/x-python",
   "name": "python",
   "nbconvert_exporter": "python",
   "pygments_lexer": "ipython3",
   "version": "3.12.6"
  }
 },
 "nbformat": 4,
 "nbformat_minor": 5
}
