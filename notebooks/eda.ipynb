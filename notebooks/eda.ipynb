{
 "cells": [
  {
   "cell_type": "markdown",
   "id": "6d4271d5",
   "metadata": {},
   "source": [
    "# Exploratory Data Analysis"
   ]
  },
  {
   "cell_type": "markdown",
   "id": "d3820672",
   "metadata": {},
   "source": [
    "### Getting ready"
   ]
  },
  {
   "cell_type": "markdown",
   "id": "5b4294e1",
   "metadata": {},
   "source": [
    "Importing libraries"
   ]
  },
  {
   "cell_type": "code",
   "execution_count": 2,
   "id": "018620e3",
   "metadata": {},
   "outputs": [],
   "source": [
    "import pandas as pd\n",
    "import numpy as np\n",
    "from IPython.display import display, Image\n",
    "import ast\n",
    "import matplotlib.pyplot as plt"
   ]
  },
  {
   "cell_type": "markdown",
   "id": "6fdc5876",
   "metadata": {},
   "source": [
    "### EDA"
   ]
  },
  {
   "cell_type": "markdown",
   "id": "93aa362f",
   "metadata": {},
   "source": [
    "Utils functions"
   ]
  },
  {
   "cell_type": "code",
   "execution_count": 5,
   "id": "a9ce8f65",
   "metadata": {},
   "outputs": [],
   "source": [
    "def display_book_info(book_series: pd.Series) -> None:\n",
    "    \"\"\"\n",
    "    Displays information about the book and book cover.\n",
    "    \"\"\"\n",
    "    title, author, img, link = book_series['title'], book_series['author'], book_series['img'], book_series['link']\n",
    "    print(f\"Title: {title}\")\n",
    "    print(\"Author: \" + \", \".join(ast.literal_eval(author)))\n",
    "    print(f\"Link: {link}\")\n",
    "    display(Image(url=img, width=200, height=300))"
   ]
  },
  {
   "cell_type": "code",
   "execution_count": null,
   "id": "48c961ad",
   "metadata": {},
   "outputs": [],
   "source": []
  }
 ],
 "metadata": {
  "kernelspec": {
   "display_name": ".venv",
   "language": "python",
   "name": "python3"
  },
  "language_info": {
   "codemirror_mode": {
    "name": "ipython",
    "version": 3
   },
   "file_extension": ".py",
   "mimetype": "text/x-python",
   "name": "python",
   "nbconvert_exporter": "python",
   "pygments_lexer": "ipython3",
   "version": "3.12.6"
  }
 },
 "nbformat": 4,
 "nbformat_minor": 5
}
